{
 "cells": [
  {
   "cell_type": "markdown",
   "metadata": {},
   "source": [
    "## 完整591網路爬蟲"
   ]
  },
  {
   "cell_type": "code",
   "execution_count": 12,
   "metadata": {},
   "outputs": [],
   "source": [
    "import requests\n",
    "from bs4 import BeautifulSoup\n",
    "rs  = requests.session()\n",
    "res = rs.get('https://rent.591.com.tw/?kind=1&region=1&section=5')\n",
    "soup = BeautifulSoup(res.text)\n",
    "token = soup.select_one('meta[name=\"csrf-token\"]')['content']"
   ]
  },
  {
   "cell_type": "code",
   "execution_count": 11,
   "metadata": {},
   "outputs": [
    {
     "data": {
      "text/plain": [
       "27"
      ]
     },
     "execution_count": 11,
     "metadata": {},
     "output_type": "execute_result"
    }
   ],
   "source": [
    "int(793 / 30) + 1"
   ]
  },
  {
   "cell_type": "code",
   "execution_count": 17,
   "metadata": {},
   "outputs": [],
   "source": [
    "import pandas\n",
    "headers = {\n",
    "'X-CSRF-TOKEN': token,\n",
    "'X-Requested-With': 'XMLHttpRequest'    \n",
    "}\n",
    "apiurl = 'https://rent.591.com.tw/home/search/rsList?is_new_list=1&type=1&kind=1&searchtype=1&region=1&section=5&firstRow={}&totalRows=793'\n",
    "\n",
    "pagenum = int(793 / 30) + 1\n",
    "dataary = []\n",
    "for p in range(pagenum):\n",
    "    res2 = rs.get(apiurl.format(p*30), headers = headers)\n",
    "    df = pandas.DataFrame(res2.json()['data']['data'])\n",
    "    dataary.append(df)"
   ]
  },
  {
   "cell_type": "code",
   "execution_count": 18,
   "metadata": {},
   "outputs": [
    {
     "data": {
      "text/plain": [
       "27"
      ]
     },
     "execution_count": 18,
     "metadata": {},
     "output_type": "execute_result"
    }
   ],
   "source": [
    "len(dataary)"
   ]
  },
  {
   "cell_type": "code",
   "execution_count": 16,
   "metadata": {},
   "outputs": [],
   "source": [
    "#dataary[0]"
   ]
  },
  {
   "cell_type": "code",
   "execution_count": 21,
   "metadata": {},
   "outputs": [
    {
     "data": {
      "text/html": [
       "<div>\n",
       "<style scoped>\n",
       "    .dataframe tbody tr th:only-of-type {\n",
       "        vertical-align: middle;\n",
       "    }\n",
       "\n",
       "    .dataframe tbody tr th {\n",
       "        vertical-align: top;\n",
       "    }\n",
       "\n",
       "    .dataframe thead th {\n",
       "        text-align: right;\n",
       "    }\n",
       "</style>\n",
       "<table border=\"1\" class=\"dataframe\">\n",
       "  <thead>\n",
       "    <tr style=\"text-align: right;\">\n",
       "      <th></th>\n",
       "      <th>addInfo</th>\n",
       "      <th>addition2</th>\n",
       "      <th>addition3</th>\n",
       "      <th>addition4</th>\n",
       "      <th>addr_number_name</th>\n",
       "      <th>address</th>\n",
       "      <th>address_img</th>\n",
       "      <th>address_img_title</th>\n",
       "      <th>alley_name</th>\n",
       "      <th>allfloor</th>\n",
       "      <th>...</th>\n",
       "      <th>storeprice</th>\n",
       "      <th>street_name</th>\n",
       "      <th>streetid</th>\n",
       "      <th>type</th>\n",
       "      <th>unit</th>\n",
       "      <th>updatetime</th>\n",
       "      <th>user_id</th>\n",
       "      <th>vipBorder</th>\n",
       "      <th>vipimg</th>\n",
       "      <th>vipstyle</th>\n",
       "    </tr>\n",
       "  </thead>\n",
       "  <tbody>\n",
       "    <tr>\n",
       "      <th>0</th>\n",
       "      <td></td>\n",
       "      <td>0</td>\n",
       "      <td>0</td>\n",
       "      <td>1</td>\n",
       "      <td></td>\n",
       "      <td>敦化南路敦南燙金門牌挑高..</td>\n",
       "      <td>敦南燙金門牌挑高六米面101適合公司總部</td>\n",
       "      <td>敦南燙金門牌挑高六米面101適合公司總部</td>\n",
       "      <td></td>\n",
       "      <td>21</td>\n",
       "      <td>...</td>\n",
       "      <td>0</td>\n",
       "      <td>敦化南路</td>\n",
       "      <td>42066</td>\n",
       "      <td>1</td>\n",
       "      <td>元/月</td>\n",
       "      <td>1556880242</td>\n",
       "      <td>855992</td>\n",
       "      <td>vipStyle</td>\n",
       "      <td></td>\n",
       "      <td>isvip</td>\n",
       "    </tr>\n",
       "    <tr>\n",
       "      <th>1</th>\n",
       "      <td></td>\n",
       "      <td>0</td>\n",
       "      <td>0</td>\n",
       "      <td>1</td>\n",
       "      <td>86號</td>\n",
       "      <td>光復南路高樓層大巨蛋正對..</td>\n",
       "      <td>高樓層大巨蛋正對面近捷運國父紀念館站</td>\n",
       "      <td>高樓層大巨蛋正對面近捷運國父紀念館站</td>\n",
       "      <td></td>\n",
       "      <td>13</td>\n",
       "      <td>...</td>\n",
       "      <td>0</td>\n",
       "      <td>光復南路</td>\n",
       "      <td>25623</td>\n",
       "      <td>1</td>\n",
       "      <td>元/月</td>\n",
       "      <td>1558932105</td>\n",
       "      <td>452502</td>\n",
       "      <td>vipStyle</td>\n",
       "      <td></td>\n",
       "      <td>isvip</td>\n",
       "    </tr>\n",
       "    <tr>\n",
       "      <th>2</th>\n",
       "      <td></td>\n",
       "      <td>0</td>\n",
       "      <td>0</td>\n",
       "      <td>1</td>\n",
       "      <td>162號</td>\n",
       "      <td>延吉街仁愛高檔裝潢華廈--..</td>\n",
       "      <td>仁愛高檔裝潢華廈--福斯地產</td>\n",
       "      <td>仁愛高檔裝潢華廈--福斯地產</td>\n",
       "      <td></td>\n",
       "      <td>7</td>\n",
       "      <td>...</td>\n",
       "      <td>0</td>\n",
       "      <td>延吉街</td>\n",
       "      <td>25635</td>\n",
       "      <td>1</td>\n",
       "      <td>元/月</td>\n",
       "      <td>1558511136</td>\n",
       "      <td>21570</td>\n",
       "      <td>vipStyle</td>\n",
       "      <td></td>\n",
       "      <td>isvip</td>\n",
       "    </tr>\n",
       "    <tr>\n",
       "      <th>3</th>\n",
       "      <td></td>\n",
       "      <td>0</td>\n",
       "      <td>0</td>\n",
       "      <td>1</td>\n",
       "      <td></td>\n",
       "      <td>信義路三段台北大安森林公..</td>\n",
       "      <td>台北大安森林公園(可短租/設籍/營登)</td>\n",
       "      <td>台北大安森林公園(可短租/設籍/營登)</td>\n",
       "      <td></td>\n",
       "      <td>14</td>\n",
       "      <td>...</td>\n",
       "      <td>0</td>\n",
       "      <td>信義路三段</td>\n",
       "      <td>25647</td>\n",
       "      <td>1</td>\n",
       "      <td>元/月</td>\n",
       "      <td>1556941550</td>\n",
       "      <td>104199</td>\n",
       "      <td>vipStyle</td>\n",
       "      <td></td>\n",
       "      <td>isvip</td>\n",
       "    </tr>\n",
       "    <tr>\n",
       "      <th>4</th>\n",
       "      <td></td>\n",
       "      <td>0</td>\n",
       "      <td>0</td>\n",
       "      <td>1</td>\n",
       "      <td></td>\n",
       "      <td>復興南路一段*可短租*大..</td>\n",
       "      <td>*可短租*大安捷運站優質3房2廳2衛豪宅</td>\n",
       "      <td>*可短租*大安捷運站優質3房2廳2衛豪宅</td>\n",
       "      <td></td>\n",
       "      <td>14</td>\n",
       "      <td>...</td>\n",
       "      <td>0</td>\n",
       "      <td>復興南路一段</td>\n",
       "      <td>25660</td>\n",
       "      <td>1</td>\n",
       "      <td>元/月</td>\n",
       "      <td>1557211416</td>\n",
       "      <td>1372887</td>\n",
       "      <td>vipStyle</td>\n",
       "      <td></td>\n",
       "      <td>isvip</td>\n",
       "    </tr>\n",
       "  </tbody>\n",
       "</table>\n",
       "<p>5 rows × 88 columns</p>\n",
       "</div>"
      ],
      "text/plain": [
       "  addInfo  addition2  addition3  addition4 addr_number_name          address  \\\n",
       "0                  0          0          1                    敦化南路敦南燙金門牌挑高..   \n",
       "1                  0          0          1              86號   光復南路高樓層大巨蛋正對..   \n",
       "2                  0          0          1             162號  延吉街仁愛高檔裝潢華廈--..   \n",
       "3                  0          0          1                    信義路三段台北大安森林公..   \n",
       "4                  0          0          1                    復興南路一段*可短租*大..   \n",
       "\n",
       "            address_img     address_img_title alley_name  allfloor  ...  \\\n",
       "0  敦南燙金門牌挑高六米面101適合公司總部  敦南燙金門牌挑高六米面101適合公司總部                   21  ...   \n",
       "1    高樓層大巨蛋正對面近捷運國父紀念館站    高樓層大巨蛋正對面近捷運國父紀念館站                   13  ...   \n",
       "2        仁愛高檔裝潢華廈--福斯地產        仁愛高檔裝潢華廈--福斯地產                    7  ...   \n",
       "3   台北大安森林公園(可短租/設籍/營登)   台北大安森林公園(可短租/設籍/營登)                   14  ...   \n",
       "4  *可短租*大安捷運站優質3房2廳2衛豪宅  *可短租*大安捷運站優質3房2廳2衛豪宅                   14  ...   \n",
       "\n",
       "   storeprice street_name  streetid  type unit  updatetime  user_id vipBorder  \\\n",
       "0           0        敦化南路     42066     1  元/月  1556880242   855992  vipStyle   \n",
       "1           0        光復南路     25623     1  元/月  1558932105   452502  vipStyle   \n",
       "2           0         延吉街     25635     1  元/月  1558511136    21570  vipStyle   \n",
       "3           0       信義路三段     25647     1  元/月  1556941550   104199  vipStyle   \n",
       "4           0      復興南路一段     25660     1  元/月  1557211416  1372887  vipStyle   \n",
       "\n",
       "   vipimg  vipstyle  \n",
       "0             isvip  \n",
       "1             isvip  \n",
       "2             isvip  \n",
       "3             isvip  \n",
       "4             isvip  \n",
       "\n",
       "[5 rows x 88 columns]"
      ]
     },
     "execution_count": 21,
     "metadata": {},
     "output_type": "execute_result"
    }
   ],
   "source": [
    "import pandas\n",
    "df = pandas.concat(dataary)\n",
    "df.head()"
   ]
  },
  {
   "cell_type": "code",
   "execution_count": 22,
   "metadata": {},
   "outputs": [
    {
     "name": "stdout",
     "output_type": "stream",
     "text": [
      "<class 'pandas.core.frame.DataFrame'>\n",
      "Int64Index: 790 entries, 0 to 9\n",
      "Data columns (total 88 columns):\n",
      "addInfo                   790 non-null object\n",
      "addition2                 790 non-null int64\n",
      "addition3                 790 non-null int64\n",
      "addition4                 790 non-null int64\n",
      "addr_number_name          790 non-null object\n",
      "address                   790 non-null object\n",
      "address_img               790 non-null object\n",
      "address_img_title         790 non-null object\n",
      "alley_name                790 non-null object\n",
      "allfloor                  790 non-null int64\n",
      "area                      790 non-null float64\n",
      "balcony_area              0 non-null object\n",
      "browsenum                 790 non-null int64\n",
      "browsenum_all             790 non-null int64\n",
      "browsenum_name            790 non-null object\n",
      "cartplace                 790 non-null object\n",
      "cases_id                  790 non-null object\n",
      "cases_name                790 non-null object\n",
      "checkstatus               790 non-null int64\n",
      "closed                    790 non-null int64\n",
      "comment_class             790 non-null object\n",
      "comment_ltime             790 non-null int64\n",
      "comment_total             790 non-null int64\n",
      "comment_unread            790 non-null int64\n",
      "condition                 790 non-null object\n",
      "cover                     790 non-null object\n",
      "distance                  790 non-null int64\n",
      "filename                  790 non-null object\n",
      "floor                     790 non-null int64\n",
      "floor2                    790 non-null int64\n",
      "floorInfo                 790 non-null object\n",
      "fulladdress               790 non-null object\n",
      "groundarea                0 non-null object\n",
      "hasimg                    790 non-null int64\n",
      "house_img                 790 non-null object\n",
      "houseage                  790 non-null int64\n",
      "houseid                   790 non-null int64\n",
      "houseimg                  4 non-null object\n",
      "housetype                 790 non-null int64\n",
      "icon_class                790 non-null object\n",
      "icon_name                 790 non-null object\n",
      "id                        790 non-null int64\n",
      "is_combine                790 non-null int64\n",
      "isvip                     790 non-null int64\n",
      "kind                      790 non-null int64\n",
      "kind_name                 790 non-null object\n",
      "kind_name_img             790 non-null object\n",
      "lane_name                 790 non-null object\n",
      "layout                    790 non-null object\n",
      "layout_str                790 non-null object\n",
      "linkman                   790 non-null object\n",
      "living                    790 non-null object\n",
      "ltime                     790 non-null object\n",
      "mainarea                  0 non-null object\n",
      "mvip                      790 non-null int64\n",
      "new_img                   790 non-null object\n",
      "new_list_comment_total    790 non-null int64\n",
      "nick_name                 790 non-null object\n",
      "onepxImg                  790 non-null object\n",
      "photoNum                  790 non-null object\n",
      "photo_alt                 790 non-null object\n",
      "post_id                   790 non-null int64\n",
      "posttime                  790 non-null object\n",
      "price                     790 non-null object\n",
      "price_hide                790 non-null object\n",
      "refreshtime               790 non-null int64\n",
      "region_name               790 non-null object\n",
      "regionid                  790 non-null int64\n",
      "regionname                790 non-null object\n",
      "room                      790 non-null int64\n",
      "search_name               790 non-null object\n",
      "section_name              790 non-null object\n",
      "sectionid                 790 non-null int64\n",
      "sectionname               790 non-null object\n",
      "shape                     790 non-null int64\n",
      "social_house              790 non-null int64\n",
      "space_type_str            790 non-null object\n",
      "status                    790 non-null object\n",
      "storeprice                790 non-null int64\n",
      "street_name               790 non-null object\n",
      "streetid                  790 non-null int64\n",
      "type                      790 non-null object\n",
      "unit                      790 non-null object\n",
      "updatetime                790 non-null int64\n",
      "user_id                   790 non-null int64\n",
      "vipBorder                 790 non-null object\n",
      "vipimg                    790 non-null object\n",
      "vipstyle                  790 non-null object\n",
      "dtypes: float64(1), int64(35), object(52)\n",
      "memory usage: 549.3+ KB\n"
     ]
    }
   ],
   "source": [
    "df.info()"
   ]
  },
  {
   "cell_type": "code",
   "execution_count": 23,
   "metadata": {},
   "outputs": [],
   "source": [
    "df = df[['address', 'floor', 'allfloor', 'layout', 'area', 'price', 'browsenum_all']]"
   ]
  },
  {
   "cell_type": "code",
   "execution_count": 24,
   "metadata": {},
   "outputs": [
    {
     "data": {
      "text/html": [
       "<div>\n",
       "<style scoped>\n",
       "    .dataframe tbody tr th:only-of-type {\n",
       "        vertical-align: middle;\n",
       "    }\n",
       "\n",
       "    .dataframe tbody tr th {\n",
       "        vertical-align: top;\n",
       "    }\n",
       "\n",
       "    .dataframe thead th {\n",
       "        text-align: right;\n",
       "    }\n",
       "</style>\n",
       "<table border=\"1\" class=\"dataframe\">\n",
       "  <thead>\n",
       "    <tr style=\"text-align: right;\">\n",
       "      <th></th>\n",
       "      <th>address</th>\n",
       "      <th>floor</th>\n",
       "      <th>allfloor</th>\n",
       "      <th>layout</th>\n",
       "      <th>area</th>\n",
       "      <th>price</th>\n",
       "      <th>browsenum_all</th>\n",
       "    </tr>\n",
       "  </thead>\n",
       "  <tbody>\n",
       "    <tr>\n",
       "      <th>0</th>\n",
       "      <td>敦化南路敦南燙金門牌挑高..</td>\n",
       "      <td>21</td>\n",
       "      <td>21</td>\n",
       "      <td>6房4廳5衛</td>\n",
       "      <td>140.0</td>\n",
       "      <td>260,000</td>\n",
       "      <td>1448</td>\n",
       "    </tr>\n",
       "    <tr>\n",
       "      <th>1</th>\n",
       "      <td>光復南路高樓層大巨蛋正對..</td>\n",
       "      <td>10</td>\n",
       "      <td>13</td>\n",
       "      <td>4房2廳2衛</td>\n",
       "      <td>71.3</td>\n",
       "      <td>130,000</td>\n",
       "      <td>1615</td>\n",
       "    </tr>\n",
       "    <tr>\n",
       "      <th>2</th>\n",
       "      <td>延吉街仁愛高檔裝潢華廈--..</td>\n",
       "      <td>6</td>\n",
       "      <td>7</td>\n",
       "      <td>4房2廳2衛</td>\n",
       "      <td>38.0</td>\n",
       "      <td>65,000</td>\n",
       "      <td>1392</td>\n",
       "    </tr>\n",
       "    <tr>\n",
       "      <th>3</th>\n",
       "      <td>信義路三段台北大安森林公..</td>\n",
       "      <td>12</td>\n",
       "      <td>14</td>\n",
       "      <td>1房2廳1衛</td>\n",
       "      <td>11.0</td>\n",
       "      <td>36,000</td>\n",
       "      <td>1977</td>\n",
       "    </tr>\n",
       "    <tr>\n",
       "      <th>4</th>\n",
       "      <td>復興南路一段*可短租*大..</td>\n",
       "      <td>13</td>\n",
       "      <td>14</td>\n",
       "      <td>3房2廳2衛</td>\n",
       "      <td>43.0</td>\n",
       "      <td>105,000</td>\n",
       "      <td>817</td>\n",
       "    </tr>\n",
       "  </tbody>\n",
       "</table>\n",
       "</div>"
      ],
      "text/plain": [
       "           address  floor  allfloor  layout   area    price  browsenum_all\n",
       "0   敦化南路敦南燙金門牌挑高..     21        21  6房4廳5衛  140.0  260,000           1448\n",
       "1   光復南路高樓層大巨蛋正對..     10        13  4房2廳2衛   71.3  130,000           1615\n",
       "2  延吉街仁愛高檔裝潢華廈--..      6         7  4房2廳2衛   38.0   65,000           1392\n",
       "3   信義路三段台北大安森林公..     12        14  1房2廳1衛   11.0   36,000           1977\n",
       "4   復興南路一段*可短租*大..     13        14  3房2廳2衛   43.0  105,000            817"
      ]
     },
     "execution_count": 24,
     "metadata": {},
     "output_type": "execute_result"
    }
   ],
   "source": [
    "df.head()"
   ]
  },
  {
   "cell_type": "code",
   "execution_count": 27,
   "metadata": {},
   "outputs": [],
   "source": [
    "df['price'] = df['price'].map(lambda e: int(e.replace(',', '')))"
   ]
  },
  {
   "cell_type": "code",
   "execution_count": 28,
   "metadata": {},
   "outputs": [
    {
     "data": {
      "text/html": [
       "<div>\n",
       "<style scoped>\n",
       "    .dataframe tbody tr th:only-of-type {\n",
       "        vertical-align: middle;\n",
       "    }\n",
       "\n",
       "    .dataframe tbody tr th {\n",
       "        vertical-align: top;\n",
       "    }\n",
       "\n",
       "    .dataframe thead th {\n",
       "        text-align: right;\n",
       "    }\n",
       "</style>\n",
       "<table border=\"1\" class=\"dataframe\">\n",
       "  <thead>\n",
       "    <tr style=\"text-align: right;\">\n",
       "      <th></th>\n",
       "      <th>address</th>\n",
       "      <th>floor</th>\n",
       "      <th>allfloor</th>\n",
       "      <th>layout</th>\n",
       "      <th>area</th>\n",
       "      <th>price</th>\n",
       "      <th>browsenum_all</th>\n",
       "    </tr>\n",
       "  </thead>\n",
       "  <tbody>\n",
       "    <tr>\n",
       "      <th>0</th>\n",
       "      <td>敦化南路敦南燙金門牌挑高..</td>\n",
       "      <td>21</td>\n",
       "      <td>21</td>\n",
       "      <td>6房4廳5衛</td>\n",
       "      <td>140.0</td>\n",
       "      <td>260000</td>\n",
       "      <td>1448</td>\n",
       "    </tr>\n",
       "    <tr>\n",
       "      <th>1</th>\n",
       "      <td>光復南路高樓層大巨蛋正對..</td>\n",
       "      <td>10</td>\n",
       "      <td>13</td>\n",
       "      <td>4房2廳2衛</td>\n",
       "      <td>71.3</td>\n",
       "      <td>130000</td>\n",
       "      <td>1615</td>\n",
       "    </tr>\n",
       "    <tr>\n",
       "      <th>2</th>\n",
       "      <td>延吉街仁愛高檔裝潢華廈--..</td>\n",
       "      <td>6</td>\n",
       "      <td>7</td>\n",
       "      <td>4房2廳2衛</td>\n",
       "      <td>38.0</td>\n",
       "      <td>65000</td>\n",
       "      <td>1392</td>\n",
       "    </tr>\n",
       "    <tr>\n",
       "      <th>3</th>\n",
       "      <td>信義路三段台北大安森林公..</td>\n",
       "      <td>12</td>\n",
       "      <td>14</td>\n",
       "      <td>1房2廳1衛</td>\n",
       "      <td>11.0</td>\n",
       "      <td>36000</td>\n",
       "      <td>1977</td>\n",
       "    </tr>\n",
       "    <tr>\n",
       "      <th>4</th>\n",
       "      <td>復興南路一段*可短租*大..</td>\n",
       "      <td>13</td>\n",
       "      <td>14</td>\n",
       "      <td>3房2廳2衛</td>\n",
       "      <td>43.0</td>\n",
       "      <td>105000</td>\n",
       "      <td>817</td>\n",
       "    </tr>\n",
       "  </tbody>\n",
       "</table>\n",
       "</div>"
      ],
      "text/plain": [
       "           address  floor  allfloor  layout   area   price  browsenum_all\n",
       "0   敦化南路敦南燙金門牌挑高..     21        21  6房4廳5衛  140.0  260000           1448\n",
       "1   光復南路高樓層大巨蛋正對..     10        13  4房2廳2衛   71.3  130000           1615\n",
       "2  延吉街仁愛高檔裝潢華廈--..      6         7  4房2廳2衛   38.0   65000           1392\n",
       "3   信義路三段台北大安森林公..     12        14  1房2廳1衛   11.0   36000           1977\n",
       "4   復興南路一段*可短租*大..     13        14  3房2廳2衛   43.0  105000            817"
      ]
     },
     "execution_count": 28,
     "metadata": {},
     "output_type": "execute_result"
    }
   ],
   "source": [
    "df.head()"
   ]
  },
  {
   "cell_type": "code",
   "execution_count": 30,
   "metadata": {},
   "outputs": [],
   "source": [
    "df[['layout_bedroom','layout_livingroom','layout_bathroom']] = df['layout'].str.extract('(\\d+)房(\\d+)廳(\\d+)衛')"
   ]
  },
  {
   "cell_type": "code",
   "execution_count": 31,
   "metadata": {},
   "outputs": [
    {
     "data": {
      "text/html": [
       "<div>\n",
       "<style scoped>\n",
       "    .dataframe tbody tr th:only-of-type {\n",
       "        vertical-align: middle;\n",
       "    }\n",
       "\n",
       "    .dataframe tbody tr th {\n",
       "        vertical-align: top;\n",
       "    }\n",
       "\n",
       "    .dataframe thead th {\n",
       "        text-align: right;\n",
       "    }\n",
       "</style>\n",
       "<table border=\"1\" class=\"dataframe\">\n",
       "  <thead>\n",
       "    <tr style=\"text-align: right;\">\n",
       "      <th></th>\n",
       "      <th>address</th>\n",
       "      <th>floor</th>\n",
       "      <th>allfloor</th>\n",
       "      <th>layout</th>\n",
       "      <th>area</th>\n",
       "      <th>price</th>\n",
       "      <th>browsenum_all</th>\n",
       "      <th>layout_bedroom</th>\n",
       "      <th>layout_livingroom</th>\n",
       "      <th>layout_bathroom</th>\n",
       "    </tr>\n",
       "  </thead>\n",
       "  <tbody>\n",
       "    <tr>\n",
       "      <th>0</th>\n",
       "      <td>敦化南路敦南燙金門牌挑高..</td>\n",
       "      <td>21</td>\n",
       "      <td>21</td>\n",
       "      <td>6房4廳5衛</td>\n",
       "      <td>140.0</td>\n",
       "      <td>260000</td>\n",
       "      <td>1448</td>\n",
       "      <td>6</td>\n",
       "      <td>4</td>\n",
       "      <td>5</td>\n",
       "    </tr>\n",
       "    <tr>\n",
       "      <th>1</th>\n",
       "      <td>光復南路高樓層大巨蛋正對..</td>\n",
       "      <td>10</td>\n",
       "      <td>13</td>\n",
       "      <td>4房2廳2衛</td>\n",
       "      <td>71.3</td>\n",
       "      <td>130000</td>\n",
       "      <td>1615</td>\n",
       "      <td>4</td>\n",
       "      <td>2</td>\n",
       "      <td>2</td>\n",
       "    </tr>\n",
       "    <tr>\n",
       "      <th>2</th>\n",
       "      <td>延吉街仁愛高檔裝潢華廈--..</td>\n",
       "      <td>6</td>\n",
       "      <td>7</td>\n",
       "      <td>4房2廳2衛</td>\n",
       "      <td>38.0</td>\n",
       "      <td>65000</td>\n",
       "      <td>1392</td>\n",
       "      <td>4</td>\n",
       "      <td>2</td>\n",
       "      <td>2</td>\n",
       "    </tr>\n",
       "    <tr>\n",
       "      <th>3</th>\n",
       "      <td>信義路三段台北大安森林公..</td>\n",
       "      <td>12</td>\n",
       "      <td>14</td>\n",
       "      <td>1房2廳1衛</td>\n",
       "      <td>11.0</td>\n",
       "      <td>36000</td>\n",
       "      <td>1977</td>\n",
       "      <td>1</td>\n",
       "      <td>2</td>\n",
       "      <td>1</td>\n",
       "    </tr>\n",
       "    <tr>\n",
       "      <th>4</th>\n",
       "      <td>復興南路一段*可短租*大..</td>\n",
       "      <td>13</td>\n",
       "      <td>14</td>\n",
       "      <td>3房2廳2衛</td>\n",
       "      <td>43.0</td>\n",
       "      <td>105000</td>\n",
       "      <td>817</td>\n",
       "      <td>3</td>\n",
       "      <td>2</td>\n",
       "      <td>2</td>\n",
       "    </tr>\n",
       "  </tbody>\n",
       "</table>\n",
       "</div>"
      ],
      "text/plain": [
       "           address  floor  allfloor  layout   area   price  browsenum_all  \\\n",
       "0   敦化南路敦南燙金門牌挑高..     21        21  6房4廳5衛  140.0  260000           1448   \n",
       "1   光復南路高樓層大巨蛋正對..     10        13  4房2廳2衛   71.3  130000           1615   \n",
       "2  延吉街仁愛高檔裝潢華廈--..      6         7  4房2廳2衛   38.0   65000           1392   \n",
       "3   信義路三段台北大安森林公..     12        14  1房2廳1衛   11.0   36000           1977   \n",
       "4   復興南路一段*可短租*大..     13        14  3房2廳2衛   43.0  105000            817   \n",
       "\n",
       "  layout_bedroom layout_livingroom layout_bathroom  \n",
       "0              6                 4               5  \n",
       "1              4                 2               2  \n",
       "2              4                 2               2  \n",
       "3              1                 2               1  \n",
       "4              3                 2               2  "
      ]
     },
     "execution_count": 31,
     "metadata": {},
     "output_type": "execute_result"
    }
   ],
   "source": [
    "df.head()"
   ]
  },
  {
   "cell_type": "code",
   "execution_count": 33,
   "metadata": {},
   "outputs": [
    {
     "data": {
      "text/plain": [
       "address              0\n",
       "floor                0\n",
       "allfloor             0\n",
       "layout               0\n",
       "area                 0\n",
       "price                0\n",
       "browsenum_all        0\n",
       "layout_bedroom       2\n",
       "layout_livingroom    2\n",
       "layout_bathroom      2\n",
       "dtype: int64"
      ]
     },
     "execution_count": 33,
     "metadata": {},
     "output_type": "execute_result"
    }
   ],
   "source": [
    "df.isna().sum()"
   ]
  },
  {
   "cell_type": "code",
   "execution_count": 34,
   "metadata": {},
   "outputs": [],
   "source": [
    "df.dropna(inplace=True)"
   ]
  },
  {
   "cell_type": "code",
   "execution_count": 35,
   "metadata": {},
   "outputs": [
    {
     "data": {
      "text/plain": [
       "address              0\n",
       "floor                0\n",
       "allfloor             0\n",
       "layout               0\n",
       "area                 0\n",
       "price                0\n",
       "browsenum_all        0\n",
       "layout_bedroom       0\n",
       "layout_livingroom    0\n",
       "layout_bathroom      0\n",
       "dtype: int64"
      ]
     },
     "execution_count": 35,
     "metadata": {},
     "output_type": "execute_result"
    }
   ],
   "source": [
    "df.isna().sum()"
   ]
  },
  {
   "cell_type": "code",
   "execution_count": 36,
   "metadata": {},
   "outputs": [
    {
     "name": "stdout",
     "output_type": "stream",
     "text": [
      "<class 'pandas.core.frame.DataFrame'>\n",
      "Int64Index: 788 entries, 0 to 9\n",
      "Data columns (total 10 columns):\n",
      "address              788 non-null object\n",
      "floor                788 non-null int64\n",
      "allfloor             788 non-null int64\n",
      "layout               788 non-null object\n",
      "area                 788 non-null float64\n",
      "price                788 non-null int64\n",
      "browsenum_all        788 non-null int64\n",
      "layout_bedroom       788 non-null object\n",
      "layout_livingroom    788 non-null object\n",
      "layout_bathroom      788 non-null object\n",
      "dtypes: float64(1), int64(4), object(5)\n",
      "memory usage: 67.7+ KB\n"
     ]
    }
   ],
   "source": [
    "df.info()"
   ]
  },
  {
   "cell_type": "code",
   "execution_count": 38,
   "metadata": {},
   "outputs": [],
   "source": [
    "df['layout_bedroom'] = df['layout_bedroom'].astype(int)\n",
    "df['layout_livingroom'] = df['layout_livingroom'].astype(int)\n",
    "df['layout_bathroom'] = df['layout_bathroom'].astype(int)"
   ]
  },
  {
   "cell_type": "code",
   "execution_count": 39,
   "metadata": {},
   "outputs": [
    {
     "name": "stdout",
     "output_type": "stream",
     "text": [
      "<class 'pandas.core.frame.DataFrame'>\n",
      "Int64Index: 788 entries, 0 to 9\n",
      "Data columns (total 10 columns):\n",
      "address              788 non-null object\n",
      "floor                788 non-null int64\n",
      "allfloor             788 non-null int64\n",
      "layout               788 non-null object\n",
      "area                 788 non-null float64\n",
      "price                788 non-null int64\n",
      "browsenum_all        788 non-null int64\n",
      "layout_bedroom       788 non-null int32\n",
      "layout_livingroom    788 non-null int32\n",
      "layout_bathroom      788 non-null int32\n",
      "dtypes: float64(1), int32(3), int64(4), object(2)\n",
      "memory usage: 58.5+ KB\n"
     ]
    }
   ],
   "source": [
    "df.info()"
   ]
  },
  {
   "cell_type": "code",
   "execution_count": 40,
   "metadata": {},
   "outputs": [
    {
     "data": {
      "text/html": [
       "<div>\n",
       "<style scoped>\n",
       "    .dataframe tbody tr th:only-of-type {\n",
       "        vertical-align: middle;\n",
       "    }\n",
       "\n",
       "    .dataframe tbody tr th {\n",
       "        vertical-align: top;\n",
       "    }\n",
       "\n",
       "    .dataframe thead th {\n",
       "        text-align: right;\n",
       "    }\n",
       "</style>\n",
       "<table border=\"1\" class=\"dataframe\">\n",
       "  <thead>\n",
       "    <tr style=\"text-align: right;\">\n",
       "      <th></th>\n",
       "      <th>address</th>\n",
       "      <th>floor</th>\n",
       "      <th>allfloor</th>\n",
       "      <th>layout</th>\n",
       "      <th>area</th>\n",
       "      <th>price</th>\n",
       "      <th>browsenum_all</th>\n",
       "      <th>layout_bedroom</th>\n",
       "      <th>layout_livingroom</th>\n",
       "      <th>layout_bathroom</th>\n",
       "    </tr>\n",
       "  </thead>\n",
       "  <tbody>\n",
       "    <tr>\n",
       "      <th>0</th>\n",
       "      <td>敦化南路敦南燙金門牌挑高..</td>\n",
       "      <td>21</td>\n",
       "      <td>21</td>\n",
       "      <td>6房4廳5衛</td>\n",
       "      <td>140.0</td>\n",
       "      <td>260000</td>\n",
       "      <td>1448</td>\n",
       "      <td>6</td>\n",
       "      <td>4</td>\n",
       "      <td>5</td>\n",
       "    </tr>\n",
       "    <tr>\n",
       "      <th>1</th>\n",
       "      <td>光復南路高樓層大巨蛋正對..</td>\n",
       "      <td>10</td>\n",
       "      <td>13</td>\n",
       "      <td>4房2廳2衛</td>\n",
       "      <td>71.3</td>\n",
       "      <td>130000</td>\n",
       "      <td>1615</td>\n",
       "      <td>4</td>\n",
       "      <td>2</td>\n",
       "      <td>2</td>\n",
       "    </tr>\n",
       "    <tr>\n",
       "      <th>2</th>\n",
       "      <td>延吉街仁愛高檔裝潢華廈--..</td>\n",
       "      <td>6</td>\n",
       "      <td>7</td>\n",
       "      <td>4房2廳2衛</td>\n",
       "      <td>38.0</td>\n",
       "      <td>65000</td>\n",
       "      <td>1392</td>\n",
       "      <td>4</td>\n",
       "      <td>2</td>\n",
       "      <td>2</td>\n",
       "    </tr>\n",
       "    <tr>\n",
       "      <th>3</th>\n",
       "      <td>信義路三段台北大安森林公..</td>\n",
       "      <td>12</td>\n",
       "      <td>14</td>\n",
       "      <td>1房2廳1衛</td>\n",
       "      <td>11.0</td>\n",
       "      <td>36000</td>\n",
       "      <td>1977</td>\n",
       "      <td>1</td>\n",
       "      <td>2</td>\n",
       "      <td>1</td>\n",
       "    </tr>\n",
       "    <tr>\n",
       "      <th>4</th>\n",
       "      <td>復興南路一段*可短租*大..</td>\n",
       "      <td>13</td>\n",
       "      <td>14</td>\n",
       "      <td>3房2廳2衛</td>\n",
       "      <td>43.0</td>\n",
       "      <td>105000</td>\n",
       "      <td>817</td>\n",
       "      <td>3</td>\n",
       "      <td>2</td>\n",
       "      <td>2</td>\n",
       "    </tr>\n",
       "  </tbody>\n",
       "</table>\n",
       "</div>"
      ],
      "text/plain": [
       "           address  floor  allfloor  layout   area   price  browsenum_all  \\\n",
       "0   敦化南路敦南燙金門牌挑高..     21        21  6房4廳5衛  140.0  260000           1448   \n",
       "1   光復南路高樓層大巨蛋正對..     10        13  4房2廳2衛   71.3  130000           1615   \n",
       "2  延吉街仁愛高檔裝潢華廈--..      6         7  4房2廳2衛   38.0   65000           1392   \n",
       "3   信義路三段台北大安森林公..     12        14  1房2廳1衛   11.0   36000           1977   \n",
       "4   復興南路一段*可短租*大..     13        14  3房2廳2衛   43.0  105000            817   \n",
       "\n",
       "   layout_bedroom  layout_livingroom  layout_bathroom  \n",
       "0               6                  4                5  \n",
       "1               4                  2                2  \n",
       "2               4                  2                2  \n",
       "3               1                  2                1  \n",
       "4               3                  2                2  "
      ]
     },
     "execution_count": 40,
     "metadata": {},
     "output_type": "execute_result"
    }
   ],
   "source": [
    "df.head()"
   ]
  },
  {
   "cell_type": "code",
   "execution_count": 41,
   "metadata": {},
   "outputs": [
    {
     "data": {
      "text/html": [
       "<div>\n",
       "<style scoped>\n",
       "    .dataframe tbody tr th:only-of-type {\n",
       "        vertical-align: middle;\n",
       "    }\n",
       "\n",
       "    .dataframe tbody tr th {\n",
       "        vertical-align: top;\n",
       "    }\n",
       "\n",
       "    .dataframe thead th {\n",
       "        text-align: right;\n",
       "    }\n",
       "</style>\n",
       "<table border=\"1\" class=\"dataframe\">\n",
       "  <thead>\n",
       "    <tr style=\"text-align: right;\">\n",
       "      <th></th>\n",
       "      <th>address</th>\n",
       "      <th>floor</th>\n",
       "      <th>allfloor</th>\n",
       "      <th>area</th>\n",
       "      <th>price</th>\n",
       "      <th>browsenum_all</th>\n",
       "      <th>layout_bedroom</th>\n",
       "      <th>layout_livingroom</th>\n",
       "      <th>layout_bathroom</th>\n",
       "    </tr>\n",
       "  </thead>\n",
       "  <tbody>\n",
       "    <tr>\n",
       "      <th>0</th>\n",
       "      <td>敦化南路敦南燙金門牌挑高..</td>\n",
       "      <td>21</td>\n",
       "      <td>21</td>\n",
       "      <td>140.0</td>\n",
       "      <td>260000</td>\n",
       "      <td>1448</td>\n",
       "      <td>6</td>\n",
       "      <td>4</td>\n",
       "      <td>5</td>\n",
       "    </tr>\n",
       "    <tr>\n",
       "      <th>1</th>\n",
       "      <td>光復南路高樓層大巨蛋正對..</td>\n",
       "      <td>10</td>\n",
       "      <td>13</td>\n",
       "      <td>71.3</td>\n",
       "      <td>130000</td>\n",
       "      <td>1615</td>\n",
       "      <td>4</td>\n",
       "      <td>2</td>\n",
       "      <td>2</td>\n",
       "    </tr>\n",
       "    <tr>\n",
       "      <th>2</th>\n",
       "      <td>延吉街仁愛高檔裝潢華廈--..</td>\n",
       "      <td>6</td>\n",
       "      <td>7</td>\n",
       "      <td>38.0</td>\n",
       "      <td>65000</td>\n",
       "      <td>1392</td>\n",
       "      <td>4</td>\n",
       "      <td>2</td>\n",
       "      <td>2</td>\n",
       "    </tr>\n",
       "    <tr>\n",
       "      <th>3</th>\n",
       "      <td>信義路三段台北大安森林公..</td>\n",
       "      <td>12</td>\n",
       "      <td>14</td>\n",
       "      <td>11.0</td>\n",
       "      <td>36000</td>\n",
       "      <td>1977</td>\n",
       "      <td>1</td>\n",
       "      <td>2</td>\n",
       "      <td>1</td>\n",
       "    </tr>\n",
       "    <tr>\n",
       "      <th>4</th>\n",
       "      <td>復興南路一段*可短租*大..</td>\n",
       "      <td>13</td>\n",
       "      <td>14</td>\n",
       "      <td>43.0</td>\n",
       "      <td>105000</td>\n",
       "      <td>817</td>\n",
       "      <td>3</td>\n",
       "      <td>2</td>\n",
       "      <td>2</td>\n",
       "    </tr>\n",
       "  </tbody>\n",
       "</table>\n",
       "</div>"
      ],
      "text/plain": [
       "           address  floor  allfloor   area   price  browsenum_all  \\\n",
       "0   敦化南路敦南燙金門牌挑高..     21        21  140.0  260000           1448   \n",
       "1   光復南路高樓層大巨蛋正對..     10        13   71.3  130000           1615   \n",
       "2  延吉街仁愛高檔裝潢華廈--..      6         7   38.0   65000           1392   \n",
       "3   信義路三段台北大安森林公..     12        14   11.0   36000           1977   \n",
       "4   復興南路一段*可短租*大..     13        14   43.0  105000            817   \n",
       "\n",
       "   layout_bedroom  layout_livingroom  layout_bathroom  \n",
       "0               6                  4                5  \n",
       "1               4                  2                2  \n",
       "2               4                  2                2  \n",
       "3               1                  2                1  \n",
       "4               3                  2                2  "
      ]
     },
     "execution_count": 41,
     "metadata": {},
     "output_type": "execute_result"
    }
   ],
   "source": [
    "del df['layout']\n",
    "df.head()"
   ]
  },
  {
   "cell_type": "code",
   "execution_count": 42,
   "metadata": {},
   "outputs": [],
   "source": [
    "import sqlite3\n",
    "with sqlite3.connect('house.sqlite') as db:\n",
    "    df.to_sql('renthouse', con = db, if_exists='replace')"
   ]
  },
  {
   "cell_type": "markdown",
   "metadata": {},
   "source": [
    "## 資料分析"
   ]
  },
  {
   "cell_type": "code",
   "execution_count": 43,
   "metadata": {},
   "outputs": [
    {
     "data": {
      "text/plain": [
       "address              仁愛路三段118巷精美靜巷純住..\n",
       "floor                                1\n",
       "allfloor                             2\n",
       "area                               7.8\n",
       "price                            10000\n",
       "browsenum_all                        0\n",
       "layout_bedroom                       1\n",
       "layout_livingroom                    0\n",
       "layout_bathroom                      1\n",
       "dtype: object"
      ]
     },
     "execution_count": 43,
     "metadata": {},
     "output_type": "execute_result"
    }
   ],
   "source": [
    "df.min()"
   ]
  },
  {
   "cell_type": "code",
   "execution_count": 44,
   "metadata": {},
   "outputs": [
    {
     "data": {
      "text/plain": [
       "10000"
      ]
     },
     "execution_count": 44,
     "metadata": {},
     "output_type": "execute_result"
    }
   ],
   "source": [
    "df['price'].min()"
   ]
  },
  {
   "cell_type": "code",
   "execution_count": 45,
   "metadata": {},
   "outputs": [
    {
     "data": {
      "text/plain": [
       "350000"
      ]
     },
     "execution_count": 45,
     "metadata": {},
     "output_type": "execute_result"
    }
   ],
   "source": [
    "df['price'].max()"
   ]
  },
  {
   "cell_type": "code",
   "execution_count": 46,
   "metadata": {},
   "outputs": [
    {
     "data": {
      "text/plain": [
       "788"
      ]
     },
     "execution_count": 46,
     "metadata": {},
     "output_type": "execute_result"
    }
   ],
   "source": [
    "df['price'].count()"
   ]
  },
  {
   "cell_type": "code",
   "execution_count": 47,
   "metadata": {},
   "outputs": [
    {
     "data": {
      "text/html": [
       "<div>\n",
       "<style scoped>\n",
       "    .dataframe tbody tr th:only-of-type {\n",
       "        vertical-align: middle;\n",
       "    }\n",
       "\n",
       "    .dataframe tbody tr th {\n",
       "        vertical-align: top;\n",
       "    }\n",
       "\n",
       "    .dataframe thead th {\n",
       "        text-align: right;\n",
       "    }\n",
       "</style>\n",
       "<table border=\"1\" class=\"dataframe\">\n",
       "  <thead>\n",
       "    <tr style=\"text-align: right;\">\n",
       "      <th></th>\n",
       "      <th>address</th>\n",
       "      <th>floor</th>\n",
       "      <th>allfloor</th>\n",
       "      <th>area</th>\n",
       "      <th>price</th>\n",
       "      <th>browsenum_all</th>\n",
       "      <th>layout_bedroom</th>\n",
       "      <th>layout_livingroom</th>\n",
       "      <th>layout_bathroom</th>\n",
       "    </tr>\n",
       "  </thead>\n",
       "  <tbody>\n",
       "    <tr>\n",
       "      <th>0</th>\n",
       "      <td>敦化南路敦南燙金門牌挑高..</td>\n",
       "      <td>21</td>\n",
       "      <td>21</td>\n",
       "      <td>140.0</td>\n",
       "      <td>260000</td>\n",
       "      <td>1448</td>\n",
       "      <td>6</td>\n",
       "      <td>4</td>\n",
       "      <td>5</td>\n",
       "    </tr>\n",
       "    <tr>\n",
       "      <th>1</th>\n",
       "      <td>光復南路高樓層大巨蛋正對..</td>\n",
       "      <td>10</td>\n",
       "      <td>13</td>\n",
       "      <td>71.3</td>\n",
       "      <td>130000</td>\n",
       "      <td>1615</td>\n",
       "      <td>4</td>\n",
       "      <td>2</td>\n",
       "      <td>2</td>\n",
       "    </tr>\n",
       "    <tr>\n",
       "      <th>2</th>\n",
       "      <td>延吉街仁愛高檔裝潢華廈--..</td>\n",
       "      <td>6</td>\n",
       "      <td>7</td>\n",
       "      <td>38.0</td>\n",
       "      <td>65000</td>\n",
       "      <td>1392</td>\n",
       "      <td>4</td>\n",
       "      <td>2</td>\n",
       "      <td>2</td>\n",
       "    </tr>\n",
       "    <tr>\n",
       "      <th>3</th>\n",
       "      <td>信義路三段台北大安森林公..</td>\n",
       "      <td>12</td>\n",
       "      <td>14</td>\n",
       "      <td>11.0</td>\n",
       "      <td>36000</td>\n",
       "      <td>1977</td>\n",
       "      <td>1</td>\n",
       "      <td>2</td>\n",
       "      <td>1</td>\n",
       "    </tr>\n",
       "    <tr>\n",
       "      <th>4</th>\n",
       "      <td>復興南路一段*可短租*大..</td>\n",
       "      <td>13</td>\n",
       "      <td>14</td>\n",
       "      <td>43.0</td>\n",
       "      <td>105000</td>\n",
       "      <td>817</td>\n",
       "      <td>3</td>\n",
       "      <td>2</td>\n",
       "      <td>2</td>\n",
       "    </tr>\n",
       "  </tbody>\n",
       "</table>\n",
       "</div>"
      ],
      "text/plain": [
       "           address  floor  allfloor   area   price  browsenum_all  \\\n",
       "0   敦化南路敦南燙金門牌挑高..     21        21  140.0  260000           1448   \n",
       "1   光復南路高樓層大巨蛋正對..     10        13   71.3  130000           1615   \n",
       "2  延吉街仁愛高檔裝潢華廈--..      6         7   38.0   65000           1392   \n",
       "3   信義路三段台北大安森林公..     12        14   11.0   36000           1977   \n",
       "4   復興南路一段*可短租*大..     13        14   43.0  105000            817   \n",
       "\n",
       "   layout_bedroom  layout_livingroom  layout_bathroom  \n",
       "0               6                  4                5  \n",
       "1               4                  2                2  \n",
       "2               4                  2                2  \n",
       "3               1                  2                1  \n",
       "4               3                  2                2  "
      ]
     },
     "execution_count": 47,
     "metadata": {},
     "output_type": "execute_result"
    }
   ],
   "source": [
    "df.head()"
   ]
  },
  {
   "cell_type": "code",
   "execution_count": 48,
   "metadata": {},
   "outputs": [
    {
     "data": {
      "text/html": [
       "<div>\n",
       "<style scoped>\n",
       "    .dataframe tbody tr th:only-of-type {\n",
       "        vertical-align: middle;\n",
       "    }\n",
       "\n",
       "    .dataframe tbody tr th {\n",
       "        vertical-align: top;\n",
       "    }\n",
       "\n",
       "    .dataframe thead th {\n",
       "        text-align: right;\n",
       "    }\n",
       "</style>\n",
       "<table border=\"1\" class=\"dataframe\">\n",
       "  <thead>\n",
       "    <tr style=\"text-align: right;\">\n",
       "      <th></th>\n",
       "      <th>address</th>\n",
       "      <th>floor</th>\n",
       "      <th>allfloor</th>\n",
       "      <th>area</th>\n",
       "      <th>price</th>\n",
       "      <th>browsenum_all</th>\n",
       "      <th>layout_bedroom</th>\n",
       "      <th>layout_livingroom</th>\n",
       "      <th>layout_bathroom</th>\n",
       "    </tr>\n",
       "  </thead>\n",
       "  <tbody>\n",
       "    <tr>\n",
       "      <th>5</th>\n",
       "      <td>復興南路一段忠孝復興美宅/日..</td>\n",
       "      <td>10</td>\n",
       "      <td>10</td>\n",
       "      <td>17.0</td>\n",
       "      <td>33000</td>\n",
       "      <td>225</td>\n",
       "      <td>1</td>\n",
       "      <td>1</td>\n",
       "      <td>1</td>\n",
       "    </tr>\n",
       "    <tr>\n",
       "      <th>6</th>\n",
       "      <td>樂利路42巷近遠企商圈,溫馨1..</td>\n",
       "      <td>3</td>\n",
       "      <td>7</td>\n",
       "      <td>22.0</td>\n",
       "      <td>24000</td>\n",
       "      <td>1331</td>\n",
       "      <td>1</td>\n",
       "      <td>1</td>\n",
       "      <td>1</td>\n",
       "    </tr>\n",
       "    <tr>\n",
       "      <th>7</th>\n",
       "      <td>信義路二段信義路二段溫馨小豪..</td>\n",
       "      <td>11</td>\n",
       "      <td>11</td>\n",
       "      <td>17.1</td>\n",
       "      <td>68000</td>\n",
       "      <td>144</td>\n",
       "      <td>3</td>\n",
       "      <td>2</td>\n",
       "      <td>2</td>\n",
       "    </tr>\n",
       "    <tr>\n",
       "      <th>8</th>\n",
       "      <td>光復南路English/昇陽GRAND套..</td>\n",
       "      <td>14</td>\n",
       "      <td>14</td>\n",
       "      <td>21.7</td>\n",
       "      <td>47000</td>\n",
       "      <td>202</td>\n",
       "      <td>1</td>\n",
       "      <td>1</td>\n",
       "      <td>1</td>\n",
       "    </tr>\n",
       "    <tr>\n",
       "      <th>9</th>\n",
       "      <td>永康街師大商圈一樓小豪宅</td>\n",
       "      <td>1</td>\n",
       "      <td>13</td>\n",
       "      <td>38.0</td>\n",
       "      <td>50000</td>\n",
       "      <td>912</td>\n",
       "      <td>2</td>\n",
       "      <td>2</td>\n",
       "      <td>1</td>\n",
       "    </tr>\n",
       "  </tbody>\n",
       "</table>\n",
       "</div>"
      ],
      "text/plain": [
       "                  address  floor  allfloor  area  price  browsenum_all  \\\n",
       "5        復興南路一段忠孝復興美宅/日..     10        10  17.0  33000            225   \n",
       "6       樂利路42巷近遠企商圈,溫馨1..      3         7  22.0  24000           1331   \n",
       "7        信義路二段信義路二段溫馨小豪..     11        11  17.1  68000            144   \n",
       "8  光復南路English/昇陽GRAND套..     14        14  21.7  47000            202   \n",
       "9            永康街師大商圈一樓小豪宅      1        13  38.0  50000            912   \n",
       "\n",
       "   layout_bedroom  layout_livingroom  layout_bathroom  \n",
       "5               1                  1                1  \n",
       "6               1                  1                1  \n",
       "7               3                  2                2  \n",
       "8               1                  1                1  \n",
       "9               2                  2                1  "
      ]
     },
     "execution_count": 48,
     "metadata": {},
     "output_type": "execute_result"
    }
   ],
   "source": [
    "df.tail()"
   ]
  },
  {
   "cell_type": "code",
   "execution_count": 49,
   "metadata": {},
   "outputs": [
    {
     "data": {
      "text/html": [
       "<div>\n",
       "<style scoped>\n",
       "    .dataframe tbody tr th:only-of-type {\n",
       "        vertical-align: middle;\n",
       "    }\n",
       "\n",
       "    .dataframe tbody tr th {\n",
       "        vertical-align: top;\n",
       "    }\n",
       "\n",
       "    .dataframe thead th {\n",
       "        text-align: right;\n",
       "    }\n",
       "</style>\n",
       "<table border=\"1\" class=\"dataframe\">\n",
       "  <thead>\n",
       "    <tr style=\"text-align: right;\">\n",
       "      <th></th>\n",
       "      <th>floor</th>\n",
       "      <th>allfloor</th>\n",
       "      <th>area</th>\n",
       "      <th>price</th>\n",
       "      <th>browsenum_all</th>\n",
       "      <th>layout_bedroom</th>\n",
       "      <th>layout_livingroom</th>\n",
       "      <th>layout_bathroom</th>\n",
       "    </tr>\n",
       "  </thead>\n",
       "  <tbody>\n",
       "    <tr>\n",
       "      <th>count</th>\n",
       "      <td>788.000000</td>\n",
       "      <td>788.000000</td>\n",
       "      <td>788.000000</td>\n",
       "      <td>788.000000</td>\n",
       "      <td>788.000000</td>\n",
       "      <td>788.000000</td>\n",
       "      <td>788.000000</td>\n",
       "      <td>788.000000</td>\n",
       "    </tr>\n",
       "    <tr>\n",
       "      <th>mean</th>\n",
       "      <td>7.925127</td>\n",
       "      <td>12.098985</td>\n",
       "      <td>41.980203</td>\n",
       "      <td>70715.385787</td>\n",
       "      <td>270.780457</td>\n",
       "      <td>2.744924</td>\n",
       "      <td>1.810914</td>\n",
       "      <td>1.805838</td>\n",
       "    </tr>\n",
       "    <tr>\n",
       "      <th>std</th>\n",
       "      <td>9.368944</td>\n",
       "      <td>5.545959</td>\n",
       "      <td>23.323394</td>\n",
       "      <td>48203.251623</td>\n",
       "      <td>747.852810</td>\n",
       "      <td>1.024310</td>\n",
       "      <td>0.497549</td>\n",
       "      <td>0.729914</td>\n",
       "    </tr>\n",
       "    <tr>\n",
       "      <th>min</th>\n",
       "      <td>1.000000</td>\n",
       "      <td>2.000000</td>\n",
       "      <td>7.800000</td>\n",
       "      <td>10000.000000</td>\n",
       "      <td>0.000000</td>\n",
       "      <td>1.000000</td>\n",
       "      <td>0.000000</td>\n",
       "      <td>1.000000</td>\n",
       "    </tr>\n",
       "    <tr>\n",
       "      <th>25%</th>\n",
       "      <td>4.000000</td>\n",
       "      <td>7.000000</td>\n",
       "      <td>26.000000</td>\n",
       "      <td>44999.750000</td>\n",
       "      <td>56.000000</td>\n",
       "      <td>2.000000</td>\n",
       "      <td>2.000000</td>\n",
       "      <td>1.000000</td>\n",
       "    </tr>\n",
       "    <tr>\n",
       "      <th>50%</th>\n",
       "      <td>6.000000</td>\n",
       "      <td>12.000000</td>\n",
       "      <td>38.100000</td>\n",
       "      <td>59999.000000</td>\n",
       "      <td>108.000000</td>\n",
       "      <td>3.000000</td>\n",
       "      <td>2.000000</td>\n",
       "      <td>2.000000</td>\n",
       "    </tr>\n",
       "    <tr>\n",
       "      <th>75%</th>\n",
       "      <td>10.000000</td>\n",
       "      <td>14.000000</td>\n",
       "      <td>53.000000</td>\n",
       "      <td>76000.000000</td>\n",
       "      <td>209.250000</td>\n",
       "      <td>3.000000</td>\n",
       "      <td>2.000000</td>\n",
       "      <td>2.000000</td>\n",
       "    </tr>\n",
       "    <tr>\n",
       "      <th>max</th>\n",
       "      <td>100.000000</td>\n",
       "      <td>28.000000</td>\n",
       "      <td>210.700000</td>\n",
       "      <td>350000.000000</td>\n",
       "      <td>10217.000000</td>\n",
       "      <td>6.000000</td>\n",
       "      <td>4.000000</td>\n",
       "      <td>5.000000</td>\n",
       "    </tr>\n",
       "  </tbody>\n",
       "</table>\n",
       "</div>"
      ],
      "text/plain": [
       "            floor    allfloor        area          price  browsenum_all  \\\n",
       "count  788.000000  788.000000  788.000000     788.000000     788.000000   \n",
       "mean     7.925127   12.098985   41.980203   70715.385787     270.780457   \n",
       "std      9.368944    5.545959   23.323394   48203.251623     747.852810   \n",
       "min      1.000000    2.000000    7.800000   10000.000000       0.000000   \n",
       "25%      4.000000    7.000000   26.000000   44999.750000      56.000000   \n",
       "50%      6.000000   12.000000   38.100000   59999.000000     108.000000   \n",
       "75%     10.000000   14.000000   53.000000   76000.000000     209.250000   \n",
       "max    100.000000   28.000000  210.700000  350000.000000   10217.000000   \n",
       "\n",
       "       layout_bedroom  layout_livingroom  layout_bathroom  \n",
       "count      788.000000         788.000000       788.000000  \n",
       "mean         2.744924           1.810914         1.805838  \n",
       "std          1.024310           0.497549         0.729914  \n",
       "min          1.000000           0.000000         1.000000  \n",
       "25%          2.000000           2.000000         1.000000  \n",
       "50%          3.000000           2.000000         2.000000  \n",
       "75%          3.000000           2.000000         2.000000  \n",
       "max          6.000000           4.000000         5.000000  "
      ]
     },
     "execution_count": 49,
     "metadata": {},
     "output_type": "execute_result"
    }
   ],
   "source": [
    "df.describe()"
   ]
  },
  {
   "cell_type": "code",
   "execution_count": 51,
   "metadata": {},
   "outputs": [
    {
     "data": {
      "text/html": [
       "<div>\n",
       "<style scoped>\n",
       "    .dataframe tbody tr th:only-of-type {\n",
       "        vertical-align: middle;\n",
       "    }\n",
       "\n",
       "    .dataframe tbody tr th {\n",
       "        vertical-align: top;\n",
       "    }\n",
       "\n",
       "    .dataframe thead th {\n",
       "        text-align: right;\n",
       "    }\n",
       "</style>\n",
       "<table border=\"1\" class=\"dataframe\">\n",
       "  <thead>\n",
       "    <tr style=\"text-align: right;\">\n",
       "      <th></th>\n",
       "      <th>address</th>\n",
       "      <th>floor</th>\n",
       "      <th>allfloor</th>\n",
       "      <th>area</th>\n",
       "      <th>price</th>\n",
       "      <th>browsenum_all</th>\n",
       "      <th>layout_bedroom</th>\n",
       "      <th>layout_livingroom</th>\n",
       "      <th>layout_bathroom</th>\n",
       "    </tr>\n",
       "  </thead>\n",
       "  <tbody>\n",
       "    <tr>\n",
       "      <th>8</th>\n",
       "      <td>仁愛路三段成交多戶帝寶找我看..</td>\n",
       "      <td>8</td>\n",
       "      <td>18</td>\n",
       "      <td>210.7</td>\n",
       "      <td>350000</td>\n",
       "      <td>195</td>\n",
       "      <td>5</td>\n",
       "      <td>2</td>\n",
       "      <td>4</td>\n",
       "    </tr>\n",
       "    <tr>\n",
       "      <th>10</th>\n",
       "      <td>仁愛路三段★仁愛樹海★極致奢..</td>\n",
       "      <td>28</td>\n",
       "      <td>28</td>\n",
       "      <td>140.5</td>\n",
       "      <td>320000</td>\n",
       "      <td>258</td>\n",
       "      <td>4</td>\n",
       "      <td>3</td>\n",
       "      <td>4</td>\n",
       "    </tr>\n",
       "    <tr>\n",
       "      <th>12</th>\n",
       "      <td>仁愛路三段🏆仁愛帝寶.尊爵帝..</td>\n",
       "      <td>28</td>\n",
       "      <td>28</td>\n",
       "      <td>140.0</td>\n",
       "      <td>320000</td>\n",
       "      <td>170</td>\n",
       "      <td>4</td>\n",
       "      <td>3</td>\n",
       "      <td>4</td>\n",
       "    </tr>\n",
       "    <tr>\n",
       "      <th>9</th>\n",
       "      <td>仁愛路三段仁愛帝寶居高臨下王..</td>\n",
       "      <td>28</td>\n",
       "      <td>28</td>\n",
       "      <td>140.5</td>\n",
       "      <td>320000</td>\n",
       "      <td>148</td>\n",
       "      <td>5</td>\n",
       "      <td>3</td>\n",
       "      <td>4</td>\n",
       "    </tr>\n",
       "    <tr>\n",
       "      <th>24</th>\n",
       "      <td>仁愛路三段仁愛林蔭大道帝寶頂..</td>\n",
       "      <td>28</td>\n",
       "      <td>28</td>\n",
       "      <td>140.5</td>\n",
       "      <td>320000</td>\n",
       "      <td>12</td>\n",
       "      <td>4</td>\n",
       "      <td>3</td>\n",
       "      <td>4</td>\n",
       "    </tr>\n",
       "  </tbody>\n",
       "</table>\n",
       "</div>"
      ],
      "text/plain": [
       "             address  floor  allfloor   area   price  browsenum_all  \\\n",
       "8   仁愛路三段成交多戶帝寶找我看..      8        18  210.7  350000            195   \n",
       "10  仁愛路三段★仁愛樹海★極致奢..     28        28  140.5  320000            258   \n",
       "12  仁愛路三段🏆仁愛帝寶.尊爵帝..     28        28  140.0  320000            170   \n",
       "9   仁愛路三段仁愛帝寶居高臨下王..     28        28  140.5  320000            148   \n",
       "24  仁愛路三段仁愛林蔭大道帝寶頂..     28        28  140.5  320000             12   \n",
       "\n",
       "    layout_bedroom  layout_livingroom  layout_bathroom  \n",
       "8                5                  2                4  \n",
       "10               4                  3                4  \n",
       "12               4                  3                4  \n",
       "9                5                  3                4  \n",
       "24               4                  3                4  "
      ]
     },
     "execution_count": 51,
     "metadata": {},
     "output_type": "execute_result"
    }
   ],
   "source": [
    "df.sort_values('price', ascending=False).head()"
   ]
  },
  {
   "cell_type": "code",
   "execution_count": 52,
   "metadata": {},
   "outputs": [
    {
     "data": {
      "text/plain": [
       "floor                    7.925127\n",
       "allfloor                12.098985\n",
       "area                    41.980203\n",
       "price                70715.385787\n",
       "browsenum_all          270.780457\n",
       "layout_bedroom           2.744924\n",
       "layout_livingroom        1.810914\n",
       "layout_bathroom          1.805838\n",
       "dtype: float64"
      ]
     },
     "execution_count": 52,
     "metadata": {},
     "output_type": "execute_result"
    }
   ],
   "source": [
    "df.mean()"
   ]
  },
  {
   "cell_type": "code",
   "execution_count": 53,
   "metadata": {},
   "outputs": [
    {
     "data": {
      "text/plain": [
       "70715.38578680203"
      ]
     },
     "execution_count": 53,
     "metadata": {},
     "output_type": "execute_result"
    }
   ],
   "source": [
    "df['price'].mean()"
   ]
  },
  {
   "cell_type": "code",
   "execution_count": 54,
   "metadata": {},
   "outputs": [
    {
     "data": {
      "text/plain": [
       "59999.0"
      ]
     },
     "execution_count": 54,
     "metadata": {},
     "output_type": "execute_result"
    }
   ],
   "source": [
    "df['price'].median()"
   ]
  },
  {
   "cell_type": "code",
   "execution_count": 56,
   "metadata": {},
   "outputs": [
    {
     "name": "stdout",
     "output_type": "stream",
     "text": [
      "Populating the interactive namespace from numpy and matplotlib\n"
     ]
    },
    {
     "data": {
      "text/plain": [
       "<matplotlib.axes._subplots.AxesSubplot at 0x26eb370c8d0>"
      ]
     },
     "execution_count": 56,
     "metadata": {},
     "output_type": "execute_result"
    },
    {
     "data": {
      "image/png": "[encoded data removed]",
      "text/plain": [
       "<Figure size 432x288 with 1 Axes>"
      ]
     },
     "metadata": {
      "needs_background": "light"
     },
     "output_type": "display_data"
    }
   ],
   "source": [
    "%pylab inline\n",
    "df['price'].plot(kind = 'box')"
   ]
  },
  {
   "cell_type": "code",
   "execution_count": 57,
   "metadata": {},
   "outputs": [
    {
     "name": "stdout",
     "output_type": "stream",
     "text": [
      "Populating the interactive namespace from numpy and matplotlib\n"
     ]
    },
    {
     "data": {
      "text/plain": [
       "<matplotlib.axes._subplots.AxesSubplot at 0x26eb3d41b00>"
      ]
     },
     "execution_count": 57,
     "metadata": {},
     "output_type": "execute_result"
    },
    {
     "data": {
      "image/png": "[encoded data removed]",
      "text/plain": [
       "<Figure size 432x288 with 1 Axes>"
      ]
     },
     "metadata": {
      "needs_background": "light"
     },
     "output_type": "display_data"
    }
   ],
   "source": [
    "%pylab inline\n",
    "df['price'].plot(kind = 'hist')"
   ]
  },
  {
   "cell_type": "code",
   "execution_count": 58,
   "metadata": {},
   "outputs": [
    {
     "name": "stdout",
     "output_type": "stream",
     "text": [
      "Populating the interactive namespace from numpy and matplotlib\n"
     ]
    },
    {
     "data": {
      "text/plain": [
       "<matplotlib.axes._subplots.AxesSubplot at 0x26eb34e0ba8>"
      ]
     },
     "execution_count": 58,
     "metadata": {},
     "output_type": "execute_result"
    },
    {
     "data": {
      "image/png": "[encoded data removed]",
      "text/plain": [
       "<Figure size 432x288 with 1 Axes>"
      ]
     },
     "metadata": {
      "needs_background": "light"
     },
     "output_type": "display_data"
    }
   ],
   "source": [
    "%pylab inline\n",
    "df.plot(x = 'area', y= 'price', kind = 'scatter')"
   ]
  },
  {
   "cell_type": "markdown",
   "metadata": {},
   "source": [
    "## 機器學習"
   ]
  },
  {
   "cell_type": "code",
   "execution_count": 59,
   "metadata": {},
   "outputs": [
    {
     "data": {
      "text/plain": [
       "LinearRegression(copy_X=True, fit_intercept=True, n_jobs=None,\n",
       "         normalize=False)"
      ]
     },
     "execution_count": 59,
     "metadata": {},
     "output_type": "execute_result"
    }
   ],
   "source": [
    "from sklearn.linear_model import LinearRegression\n",
    "X = df[['area']]\n",
    "y = df['price']\n",
    "regr = LinearRegression()\n",
    "regr.fit(X,y)"
   ]
  },
  {
   "cell_type": "code",
   "execution_count": 60,
   "metadata": {},
   "outputs": [
    {
     "data": {
      "text/plain": [
       "array([1771.2032467])"
      ]
     },
     "execution_count": 60,
     "metadata": {},
     "output_type": "execute_result"
    }
   ],
   "source": [
    "regr.coef_"
   ]
  },
  {
   "cell_type": "code",
   "execution_count": 61,
   "metadata": {},
   "outputs": [
    {
     "data": {
      "text/plain": [
       "-3640.0861448847427"
      ]
     },
     "execution_count": 61,
     "metadata": {},
     "output_type": "execute_result"
    }
   ],
   "source": [
    "regr.intercept_"
   ]
  },
  {
   "cell_type": "code",
   "execution_count": 65,
   "metadata": {},
   "outputs": [
    {
     "data": {
      "text/plain": [
       "Text(0, 0.5, 'price')"
      ]
     },
     "execution_count": 65,
     "metadata": {},
     "output_type": "execute_result"
    },
    {
     "data": {
      "image/png": "[encoded data removed]",
      "text/plain": [
       "<Figure size 432x288 with 1 Axes>"
      ]
     },
     "metadata": {
      "needs_background": "light"
     },
     "output_type": "display_data"
    }
   ],
   "source": [
    "from matplotlib import pyplot as plt\n",
    "plt.scatter(X,y, color= 'blue')\n",
    "plt.plot(X, regr.predict(X), linewidth = 3, color = 'red')\n",
    "plt.xlabel('area')\n",
    "plt.ylabel('price')"
   ]
  },
  {
   "cell_type": "code",
   "execution_count": 69,
   "metadata": {},
   "outputs": [
    {
     "data": {
      "text/plain": [
       "array([31783.97878914, 49496.01125615])"
      ]
     },
     "execution_count": 69,
     "metadata": {},
     "output_type": "execute_result"
    }
   ],
   "source": [
    "import numpy as np\n",
    "a = np.array([[20],[30]])\n",
    "regr.predict(a)"
   ]
  },
  {
   "cell_type": "code",
   "execution_count": 77,
   "metadata": {},
   "outputs": [
    {
     "data": {
      "text/plain": [
       "Index(['address', 'floor', 'allfloor', 'area', 'price', 'browsenum_all',\n",
       "       'layout_bedroom', 'layout_livingroom', 'layout_bathroom'],\n",
       "      dtype='object')"
      ]
     },
     "execution_count": 77,
     "metadata": {},
     "output_type": "execute_result"
    }
   ],
   "source": [
    "df.columns"
   ]
  },
  {
   "cell_type": "code",
   "execution_count": 78,
   "metadata": {},
   "outputs": [
    {
     "data": {
      "text/plain": [
       "LinearRegression(copy_X=True, fit_intercept=True, n_jobs=None,\n",
       "         normalize=False)"
      ]
     },
     "execution_count": 78,
     "metadata": {},
     "output_type": "execute_result"
    }
   ],
   "source": [
    "from sklearn.linear_model import LinearRegression\n",
    "X = df[['floor', 'allfloor', 'area', \n",
    "       'layout_bedroom', 'layout_livingroom', 'layout_bathroom']]\n",
    "y = df['price']\n",
    "regr = LinearRegression()\n",
    "regr.fit(X,y)"
   ]
  },
  {
   "cell_type": "code",
   "execution_count": 79,
   "metadata": {},
   "outputs": [],
   "source": [
    "predicted = regr.predict(X)"
   ]
  },
  {
   "cell_type": "code",
   "execution_count": 80,
   "metadata": {},
   "outputs": [
    {
     "data": {
      "text/plain": [
       "568080810.7976979"
      ]
     },
     "execution_count": 80,
     "metadata": {},
     "output_type": "execute_result"
    }
   ],
   "source": [
    "from sklearn.metrics import mean_squared_error\n",
    "mean_squared_error(y, predicted)"
   ]
  },
  {
   "cell_type": "code",
   "execution_count": 81,
   "metadata": {},
   "outputs": [
    {
     "name": "stderr",
     "output_type": "stream",
     "text": [
      "C:\\Users\\davidchiu\\Anaconda3\\lib\\site-packages\\numpy\\core\\fromnumeric.py:2389: FutureWarning: Method .ptp is deprecated and will be removed in a future version. Use numpy.ptp instead.\n",
      "  return ptp(axis=axis, out=out, **kwargs)\n"
     ]
    }
   ],
   "source": [
    "import statsmodels.api as sm\n",
    "X = df[['floor', 'allfloor', 'area', \n",
    "       'layout_bedroom', 'layout_livingroom', 'layout_bathroom']]\n",
    "y = df['price']\n",
    "X2 = sm.add_constant(X)\n",
    "est = sm.OLS(y, X2)\n",
    "est2 = est.fit()"
   ]
  },
  {
   "cell_type": "code",
   "execution_count": 82,
   "metadata": {},
   "outputs": [
    {
     "data": {
      "text/html": [
       "<table class=\"simpletable\">\n",
       "<caption>OLS Regression Results</caption>\n",
       "<tr>\n",
       "  <th>Dep. Variable:</th>          <td>price</td>      <th>  R-squared:         </th> <td>   0.755</td> \n",
       "</tr>\n",
       "<tr>\n",
       "  <th>Model:</th>                   <td>OLS</td>       <th>  Adj. R-squared:    </th> <td>   0.753</td> \n",
       "</tr>\n",
       "<tr>\n",
       "  <th>Method:</th>             <td>Least Squares</td>  <th>  F-statistic:       </th> <td>   401.6</td> \n",
       "</tr>\n",
       "<tr>\n",
       "  <th>Date:</th>             <td>Mon, 27 May 2019</td> <th>  Prob (F-statistic):</th> <td>9.38e-235</td>\n",
       "</tr>\n",
       "<tr>\n",
       "  <th>Time:</th>                 <td>14:23:27</td>     <th>  Log-Likelihood:    </th> <td> -9060.3</td> \n",
       "</tr>\n",
       "<tr>\n",
       "  <th>No. Observations:</th>      <td>   788</td>      <th>  AIC:               </th> <td>1.813e+04</td>\n",
       "</tr>\n",
       "<tr>\n",
       "  <th>Df Residuals:</th>          <td>   781</td>      <th>  BIC:               </th> <td>1.817e+04</td>\n",
       "</tr>\n",
       "<tr>\n",
       "  <th>Df Model:</th>              <td>     6</td>      <th>                     </th>     <td> </td>    \n",
       "</tr>\n",
       "<tr>\n",
       "  <th>Covariance Type:</th>      <td>nonrobust</td>    <th>                     </th>     <td> </td>    \n",
       "</tr>\n",
       "</table>\n",
       "<table class=\"simpletable\">\n",
       "<tr>\n",
       "          <td></td>             <th>coef</th>     <th>std err</th>      <th>t</th>      <th>P>|t|</th>  <th>[0.025</th>    <th>0.975]</th>  \n",
       "</tr>\n",
       "<tr>\n",
       "  <th>const</th>             <td>-6262.6824</td> <td> 3645.024</td> <td>   -1.718</td> <td> 0.086</td> <td>-1.34e+04</td> <td>  892.522</td>\n",
       "</tr>\n",
       "<tr>\n",
       "  <th>floor</th>             <td>  348.6219</td> <td>   94.210</td> <td>    3.700</td> <td> 0.000</td> <td>  163.686</td> <td>  533.557</td>\n",
       "</tr>\n",
       "<tr>\n",
       "  <th>allfloor</th>          <td> -107.5741</td> <td>  180.026</td> <td>   -0.598</td> <td> 0.550</td> <td> -460.967</td> <td>  245.819</td>\n",
       "</tr>\n",
       "<tr>\n",
       "  <th>area</th>              <td> 1643.5731</td> <td>   63.655</td> <td>   25.820</td> <td> 0.000</td> <td> 1518.618</td> <td> 1768.529</td>\n",
       "</tr>\n",
       "<tr>\n",
       "  <th>layout_bedroom</th>    <td>-5889.8842</td> <td> 1305.368</td> <td>   -4.512</td> <td> 0.000</td> <td>-8452.330</td> <td>-3327.439</td>\n",
       "</tr>\n",
       "<tr>\n",
       "  <th>layout_livingroom</th> <td> -137.9992</td> <td> 2348.604</td> <td>   -0.059</td> <td> 0.953</td> <td>-4748.323</td> <td> 4472.324</td>\n",
       "</tr>\n",
       "<tr>\n",
       "  <th>layout_bathroom</th>   <td>  1.27e+04</td> <td> 2068.521</td> <td>    6.140</td> <td> 0.000</td> <td> 8640.726</td> <td> 1.68e+04</td>\n",
       "</tr>\n",
       "</table>\n",
       "<table class=\"simpletable\">\n",
       "<tr>\n",
       "  <th>Omnibus:</th>       <td>167.737</td> <th>  Durbin-Watson:     </th> <td>   1.951</td> \n",
       "</tr>\n",
       "<tr>\n",
       "  <th>Prob(Omnibus):</th> <td> 0.000</td>  <th>  Jarque-Bera (JB):  </th> <td> 581.042</td> \n",
       "</tr>\n",
       "<tr>\n",
       "  <th>Skew:</th>          <td> 0.989</td>  <th>  Prob(JB):          </th> <td>6.74e-127</td>\n",
       "</tr>\n",
       "<tr>\n",
       "  <th>Kurtosis:</th>      <td> 6.713</td>  <th>  Cond. No.          </th> <td>    235.</td> \n",
       "</tr>\n",
       "</table><br/><br/>Warnings:<br/>[1] Standard Errors assume that the covariance matrix of the errors is correctly specified."
      ],
      "text/plain": [
       "<class 'statsmodels.iolib.summary.Summary'>\n",
       "\"\"\"\n",
       "                            OLS Regression Results                            \n",
       "==============================================================================\n",
       "Dep. Variable:                  price   R-squared:                       0.755\n",
       "Model:                            OLS   Adj. R-squared:                  0.753\n",
       "Method:                 Least Squares   F-statistic:                     401.6\n",
       "Date:                Mon, 27 May 2019   Prob (F-statistic):          9.38e-235\n",
       "Time:                        14:23:27   Log-Likelihood:                -9060.3\n",
       "No. Observations:                 788   AIC:                         1.813e+04\n",
       "Df Residuals:                     781   BIC:                         1.817e+04\n",
       "Df Model:                           6                                         \n",
       "Covariance Type:            nonrobust                                         \n",
       "=====================================================================================\n",
       "                        coef    std err          t      P>|t|      [0.025      0.975]\n",
       "-------------------------------------------------------------------------------------\n",
       "const             -6262.6824   3645.024     -1.718      0.086   -1.34e+04     892.522\n",
       "floor               348.6219     94.210      3.700      0.000     163.686     533.557\n",
       "allfloor           -107.5741    180.026     -0.598      0.550    -460.967     245.819\n",
       "area               1643.5731     63.655     25.820      0.000    1518.618    1768.529\n",
       "layout_bedroom    -5889.8842   1305.368     -4.512      0.000   -8452.330   -3327.439\n",
       "layout_livingroom  -137.9992   2348.604     -0.059      0.953   -4748.323    4472.324\n",
       "layout_bathroom     1.27e+04   2068.521      6.140      0.000    8640.726    1.68e+04\n",
       "==============================================================================\n",
       "Omnibus:                      167.737   Durbin-Watson:                   1.951\n",
       "Prob(Omnibus):                  0.000   Jarque-Bera (JB):              581.042\n",
       "Skew:                           0.989   Prob(JB):                    6.74e-127\n",
       "Kurtosis:                       6.713   Cond. No.                         235.\n",
       "==============================================================================\n",
       "\n",
       "Warnings:\n",
       "[1] Standard Errors assume that the covariance matrix of the errors is correctly specified.\n",
       "\"\"\""
      ]
     },
     "execution_count": 82,
     "metadata": {},
     "output_type": "execute_result"
    }
   ],
   "source": [
    "est2.summary()"
   ]
  },
  {
   "cell_type": "code",
   "execution_count": null,
   "metadata": {},
   "outputs": [],
   "source": []
  }
 ],
 "metadata": {
  "kernelspec": {
   "display_name": "Python 3",
   "language": "python",
   "name": "python3"
  },
  "language_info": {
   "codemirror_mode": {
    "name": "ipython",
    "version": 3
   },
   "file_extension": ".py",
   "mimetype": "text/x-python",
   "name": "python",
   "nbconvert_exporter": "python",
   "pygments_lexer": "ipython3",
   "version": "3.7.3"
  }
 },
 "nbformat": 4,
 "nbformat_minor": 2
}
