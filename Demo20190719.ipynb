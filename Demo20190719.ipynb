{
 "cells": [
  {
   "cell_type": "markdown",
   "metadata": {},
   "source": [
    "## 讀取資料"
   ]
  },
  {
   "cell_type": "code",
   "execution_count": 1,
   "metadata": {},
   "outputs": [],
   "source": [
    "import pandas\n",
    "dfs = pandas.read_html('https://rate.bot.com.tw/xrt/quote/l6m/USD')"
   ]
  },
  {
   "cell_type": "code",
   "execution_count": 7,
   "metadata": {},
   "outputs": [],
   "source": [
    "df = dfs[0]"
   ]
  },
  {
   "cell_type": "code",
   "execution_count": 8,
   "metadata": {},
   "outputs": [
    {
     "data": {
      "text/html": [
       "<div>\n",
       "<style scoped>\n",
       "    .dataframe tbody tr th:only-of-type {\n",
       "        vertical-align: middle;\n",
       "    }\n",
       "\n",
       "    .dataframe tbody tr th {\n",
       "        vertical-align: top;\n",
       "    }\n",
       "\n",
       "    .dataframe thead tr th {\n",
       "        text-align: left;\n",
       "    }\n",
       "</style>\n",
       "<table border=\"1\" class=\"dataframe\">\n",
       "  <thead>\n",
       "    <tr>\n",
       "      <th></th>\n",
       "      <th colspan=\"2\" halign=\"left\">掛牌日期</th>\n",
       "      <th>幣別</th>\n",
       "      <th colspan=\"2\" halign=\"left\">現金匯率</th>\n",
       "      <th>Unnamed: 5_level_0</th>\n",
       "      <th colspan=\"2\" halign=\"left\">即期匯率</th>\n",
       "      <th>Unnamed: 8_level_0</th>\n",
       "    </tr>\n",
       "    <tr>\n",
       "      <th></th>\n",
       "      <th>掛牌日期</th>\n",
       "      <th>本行買入</th>\n",
       "      <th>幣別</th>\n",
       "      <th>本行賣出</th>\n",
       "      <th>本行買入</th>\n",
       "      <th>本行賣出</th>\n",
       "      <th>Unnamed: 6_level_1</th>\n",
       "      <th>Unnamed: 7_level_1</th>\n",
       "      <th>Unnamed: 8_level_1</th>\n",
       "    </tr>\n",
       "  </thead>\n",
       "  <tbody>\n",
       "    <tr>\n",
       "      <th>0</th>\n",
       "      <td>2019/07/19</td>\n",
       "      <td>美金 (USD)</td>\n",
       "      <td>30.650</td>\n",
       "      <td>31.320</td>\n",
       "      <td>31.000</td>\n",
       "      <td>31.100</td>\n",
       "      <td>NaN</td>\n",
       "      <td>NaN</td>\n",
       "      <td>NaN</td>\n",
       "    </tr>\n",
       "    <tr>\n",
       "      <th>1</th>\n",
       "      <td>2019/07/18</td>\n",
       "      <td>美金 (USD)</td>\n",
       "      <td>30.665</td>\n",
       "      <td>31.335</td>\n",
       "      <td>31.015</td>\n",
       "      <td>31.115</td>\n",
       "      <td>NaN</td>\n",
       "      <td>NaN</td>\n",
       "      <td>NaN</td>\n",
       "    </tr>\n",
       "    <tr>\n",
       "      <th>2</th>\n",
       "      <td>2019/07/17</td>\n",
       "      <td>美金 (USD)</td>\n",
       "      <td>30.670</td>\n",
       "      <td>31.340</td>\n",
       "      <td>31.020</td>\n",
       "      <td>31.120</td>\n",
       "      <td>NaN</td>\n",
       "      <td>NaN</td>\n",
       "      <td>NaN</td>\n",
       "    </tr>\n",
       "    <tr>\n",
       "      <th>3</th>\n",
       "      <td>2019/07/16</td>\n",
       "      <td>美金 (USD)</td>\n",
       "      <td>30.630</td>\n",
       "      <td>31.300</td>\n",
       "      <td>30.980</td>\n",
       "      <td>31.080</td>\n",
       "      <td>NaN</td>\n",
       "      <td>NaN</td>\n",
       "      <td>NaN</td>\n",
       "    </tr>\n",
       "    <tr>\n",
       "      <th>4</th>\n",
       "      <td>2019/07/15</td>\n",
       "      <td>美金 (USD)</td>\n",
       "      <td>30.640</td>\n",
       "      <td>31.310</td>\n",
       "      <td>30.990</td>\n",
       "      <td>31.090</td>\n",
       "      <td>NaN</td>\n",
       "      <td>NaN</td>\n",
       "      <td>NaN</td>\n",
       "    </tr>\n",
       "  </tbody>\n",
       "</table>\n",
       "</div>"
      ],
      "text/plain": [
       "         掛牌日期                幣別    現金匯率         Unnamed: 5_level_0  \\\n",
       "         掛牌日期      本行買入      幣別    本行賣出    本行買入               本行賣出   \n",
       "0  2019/07/19  美金 (USD)  30.650  31.320  31.000             31.100   \n",
       "1  2019/07/18  美金 (USD)  30.665  31.335  31.015             31.115   \n",
       "2  2019/07/17  美金 (USD)  30.670  31.340  31.020             31.120   \n",
       "3  2019/07/16  美金 (USD)  30.630  31.300  30.980             31.080   \n",
       "4  2019/07/15  美金 (USD)  30.640  31.310  30.990             31.090   \n",
       "\n",
       "                即期匯率                    Unnamed: 8_level_0  \n",
       "  Unnamed: 6_level_1 Unnamed: 7_level_1 Unnamed: 8_level_1  \n",
       "0                NaN                NaN                NaN  \n",
       "1                NaN                NaN                NaN  \n",
       "2                NaN                NaN                NaN  \n",
       "3                NaN                NaN                NaN  \n",
       "4                NaN                NaN                NaN  "
      ]
     },
     "execution_count": 8,
     "metadata": {},
     "output_type": "execute_result"
    }
   ],
   "source": [
    "df.head()"
   ]
  },
  {
   "cell_type": "markdown",
   "metadata": {},
   "source": [
    "## 清理資料"
   ]
  },
  {
   "cell_type": "code",
   "execution_count": 9,
   "metadata": {},
   "outputs": [],
   "source": [
    "df = df.iloc[:,0:6]"
   ]
  },
  {
   "cell_type": "code",
   "execution_count": 10,
   "metadata": {},
   "outputs": [
    {
     "data": {
      "text/html": [
       "<div>\n",
       "<style scoped>\n",
       "    .dataframe tbody tr th:only-of-type {\n",
       "        vertical-align: middle;\n",
       "    }\n",
       "\n",
       "    .dataframe tbody tr th {\n",
       "        vertical-align: top;\n",
       "    }\n",
       "\n",
       "    .dataframe thead tr th {\n",
       "        text-align: left;\n",
       "    }\n",
       "</style>\n",
       "<table border=\"1\" class=\"dataframe\">\n",
       "  <thead>\n",
       "    <tr>\n",
       "      <th></th>\n",
       "      <th colspan=\"2\" halign=\"left\">掛牌日期</th>\n",
       "      <th>幣別</th>\n",
       "      <th colspan=\"2\" halign=\"left\">現金匯率</th>\n",
       "      <th>Unnamed: 5_level_0</th>\n",
       "    </tr>\n",
       "    <tr>\n",
       "      <th></th>\n",
       "      <th>掛牌日期</th>\n",
       "      <th>本行買入</th>\n",
       "      <th>幣別</th>\n",
       "      <th>本行賣出</th>\n",
       "      <th>本行買入</th>\n",
       "      <th>本行賣出</th>\n",
       "    </tr>\n",
       "  </thead>\n",
       "  <tbody>\n",
       "    <tr>\n",
       "      <th>0</th>\n",
       "      <td>2019/07/19</td>\n",
       "      <td>美金 (USD)</td>\n",
       "      <td>30.650</td>\n",
       "      <td>31.320</td>\n",
       "      <td>31.000</td>\n",
       "      <td>31.100</td>\n",
       "    </tr>\n",
       "    <tr>\n",
       "      <th>1</th>\n",
       "      <td>2019/07/18</td>\n",
       "      <td>美金 (USD)</td>\n",
       "      <td>30.665</td>\n",
       "      <td>31.335</td>\n",
       "      <td>31.015</td>\n",
       "      <td>31.115</td>\n",
       "    </tr>\n",
       "    <tr>\n",
       "      <th>2</th>\n",
       "      <td>2019/07/17</td>\n",
       "      <td>美金 (USD)</td>\n",
       "      <td>30.670</td>\n",
       "      <td>31.340</td>\n",
       "      <td>31.020</td>\n",
       "      <td>31.120</td>\n",
       "    </tr>\n",
       "    <tr>\n",
       "      <th>3</th>\n",
       "      <td>2019/07/16</td>\n",
       "      <td>美金 (USD)</td>\n",
       "      <td>30.630</td>\n",
       "      <td>31.300</td>\n",
       "      <td>30.980</td>\n",
       "      <td>31.080</td>\n",
       "    </tr>\n",
       "    <tr>\n",
       "      <th>4</th>\n",
       "      <td>2019/07/15</td>\n",
       "      <td>美金 (USD)</td>\n",
       "      <td>30.640</td>\n",
       "      <td>31.310</td>\n",
       "      <td>30.990</td>\n",
       "      <td>31.090</td>\n",
       "    </tr>\n",
       "  </tbody>\n",
       "</table>\n",
       "</div>"
      ],
      "text/plain": [
       "         掛牌日期                幣別    現金匯率         Unnamed: 5_level_0\n",
       "         掛牌日期      本行買入      幣別    本行賣出    本行買入               本行賣出\n",
       "0  2019/07/19  美金 (USD)  30.650  31.320  31.000             31.100\n",
       "1  2019/07/18  美金 (USD)  30.665  31.335  31.015             31.115\n",
       "2  2019/07/17  美金 (USD)  30.670  31.340  31.020             31.120\n",
       "3  2019/07/16  美金 (USD)  30.630  31.300  30.980             31.080\n",
       "4  2019/07/15  美金 (USD)  30.640  31.310  30.990             31.090"
      ]
     },
     "execution_count": 10,
     "metadata": {},
     "output_type": "execute_result"
    }
   ],
   "source": [
    "df.head()"
   ]
  },
  {
   "cell_type": "code",
   "execution_count": 11,
   "metadata": {},
   "outputs": [],
   "source": [
    "df.columns = ['掛牌日期', '幣別', '現金匯率-本行買入', '現金匯率-本行賣出', '即期匯率-本行買入','即期匯率-本行賣出']"
   ]
  },
  {
   "cell_type": "code",
   "execution_count": 12,
   "metadata": {},
   "outputs": [
    {
     "data": {
      "text/html": [
       "<div>\n",
       "<style scoped>\n",
       "    .dataframe tbody tr th:only-of-type {\n",
       "        vertical-align: middle;\n",
       "    }\n",
       "\n",
       "    .dataframe tbody tr th {\n",
       "        vertical-align: top;\n",
       "    }\n",
       "\n",
       "    .dataframe thead th {\n",
       "        text-align: right;\n",
       "    }\n",
       "</style>\n",
       "<table border=\"1\" class=\"dataframe\">\n",
       "  <thead>\n",
       "    <tr style=\"text-align: right;\">\n",
       "      <th></th>\n",
       "      <th>掛牌日期</th>\n",
       "      <th>幣別</th>\n",
       "      <th>現金匯率-本行買入</th>\n",
       "      <th>現金匯率-本行賣出</th>\n",
       "      <th>即期匯率-本行買入</th>\n",
       "      <th>即期匯率-本行賣出</th>\n",
       "    </tr>\n",
       "  </thead>\n",
       "  <tbody>\n",
       "    <tr>\n",
       "      <th>0</th>\n",
       "      <td>2019/07/19</td>\n",
       "      <td>美金 (USD)</td>\n",
       "      <td>30.650</td>\n",
       "      <td>31.320</td>\n",
       "      <td>31.000</td>\n",
       "      <td>31.100</td>\n",
       "    </tr>\n",
       "    <tr>\n",
       "      <th>1</th>\n",
       "      <td>2019/07/18</td>\n",
       "      <td>美金 (USD)</td>\n",
       "      <td>30.665</td>\n",
       "      <td>31.335</td>\n",
       "      <td>31.015</td>\n",
       "      <td>31.115</td>\n",
       "    </tr>\n",
       "    <tr>\n",
       "      <th>2</th>\n",
       "      <td>2019/07/17</td>\n",
       "      <td>美金 (USD)</td>\n",
       "      <td>30.670</td>\n",
       "      <td>31.340</td>\n",
       "      <td>31.020</td>\n",
       "      <td>31.120</td>\n",
       "    </tr>\n",
       "    <tr>\n",
       "      <th>3</th>\n",
       "      <td>2019/07/16</td>\n",
       "      <td>美金 (USD)</td>\n",
       "      <td>30.630</td>\n",
       "      <td>31.300</td>\n",
       "      <td>30.980</td>\n",
       "      <td>31.080</td>\n",
       "    </tr>\n",
       "    <tr>\n",
       "      <th>4</th>\n",
       "      <td>2019/07/15</td>\n",
       "      <td>美金 (USD)</td>\n",
       "      <td>30.640</td>\n",
       "      <td>31.310</td>\n",
       "      <td>30.990</td>\n",
       "      <td>31.090</td>\n",
       "    </tr>\n",
       "  </tbody>\n",
       "</table>\n",
       "</div>"
      ],
      "text/plain": [
       "         掛牌日期        幣別  現金匯率-本行買入  現金匯率-本行賣出  即期匯率-本行買入  即期匯率-本行賣出\n",
       "0  2019/07/19  美金 (USD)     30.650     31.320     31.000     31.100\n",
       "1  2019/07/18  美金 (USD)     30.665     31.335     31.015     31.115\n",
       "2  2019/07/17  美金 (USD)     30.670     31.340     31.020     31.120\n",
       "3  2019/07/16  美金 (USD)     30.630     31.300     30.980     31.080\n",
       "4  2019/07/15  美金 (USD)     30.640     31.310     30.990     31.090"
      ]
     },
     "execution_count": 12,
     "metadata": {},
     "output_type": "execute_result"
    }
   ],
   "source": [
    "df.head()"
   ]
  },
  {
   "cell_type": "code",
   "execution_count": 13,
   "metadata": {},
   "outputs": [
    {
     "name": "stdout",
     "output_type": "stream",
     "text": [
      "<class 'pandas.core.frame.DataFrame'>\n",
      "RangeIndex: 120 entries, 0 to 119\n",
      "Data columns (total 6 columns):\n",
      "掛牌日期         120 non-null object\n",
      "幣別           120 non-null object\n",
      "現金匯率-本行買入    120 non-null float64\n",
      "現金匯率-本行賣出    120 non-null float64\n",
      "即期匯率-本行買入    120 non-null float64\n",
      "即期匯率-本行賣出    120 non-null float64\n",
      "dtypes: float64(4), object(2)\n",
      "memory usage: 5.7+ KB\n"
     ]
    }
   ],
   "source": [
    "df.info()"
   ]
  },
  {
   "cell_type": "code",
   "execution_count": 14,
   "metadata": {},
   "outputs": [],
   "source": [
    "df['掛牌日期'] = pandas.to_datetime(df['掛牌日期'], format= '%Y/%m/%d')"
   ]
  },
  {
   "cell_type": "code",
   "execution_count": 15,
   "metadata": {},
   "outputs": [
    {
     "name": "stdout",
     "output_type": "stream",
     "text": [
      "<class 'pandas.core.frame.DataFrame'>\n",
      "RangeIndex: 120 entries, 0 to 119\n",
      "Data columns (total 6 columns):\n",
      "掛牌日期         120 non-null datetime64[ns]\n",
      "幣別           120 non-null object\n",
      "現金匯率-本行買入    120 non-null float64\n",
      "現金匯率-本行賣出    120 non-null float64\n",
      "即期匯率-本行買入    120 non-null float64\n",
      "即期匯率-本行賣出    120 non-null float64\n",
      "dtypes: datetime64[ns](1), float64(4), object(1)\n",
      "memory usage: 5.7+ KB\n"
     ]
    }
   ],
   "source": [
    "df.info()"
   ]
  },
  {
   "cell_type": "code",
   "execution_count": 16,
   "metadata": {},
   "outputs": [
    {
     "data": {
      "text/html": [
       "<div>\n",
       "<style scoped>\n",
       "    .dataframe tbody tr th:only-of-type {\n",
       "        vertical-align: middle;\n",
       "    }\n",
       "\n",
       "    .dataframe tbody tr th {\n",
       "        vertical-align: top;\n",
       "    }\n",
       "\n",
       "    .dataframe thead th {\n",
       "        text-align: right;\n",
       "    }\n",
       "</style>\n",
       "<table border=\"1\" class=\"dataframe\">\n",
       "  <thead>\n",
       "    <tr style=\"text-align: right;\">\n",
       "      <th></th>\n",
       "      <th>掛牌日期</th>\n",
       "      <th>幣別</th>\n",
       "      <th>現金匯率-本行買入</th>\n",
       "      <th>現金匯率-本行賣出</th>\n",
       "      <th>即期匯率-本行買入</th>\n",
       "      <th>即期匯率-本行賣出</th>\n",
       "    </tr>\n",
       "  </thead>\n",
       "  <tbody>\n",
       "    <tr>\n",
       "      <th>0</th>\n",
       "      <td>2019-07-19</td>\n",
       "      <td>美金 (USD)</td>\n",
       "      <td>30.650</td>\n",
       "      <td>31.320</td>\n",
       "      <td>31.000</td>\n",
       "      <td>31.100</td>\n",
       "    </tr>\n",
       "    <tr>\n",
       "      <th>1</th>\n",
       "      <td>2019-07-18</td>\n",
       "      <td>美金 (USD)</td>\n",
       "      <td>30.665</td>\n",
       "      <td>31.335</td>\n",
       "      <td>31.015</td>\n",
       "      <td>31.115</td>\n",
       "    </tr>\n",
       "    <tr>\n",
       "      <th>2</th>\n",
       "      <td>2019-07-17</td>\n",
       "      <td>美金 (USD)</td>\n",
       "      <td>30.670</td>\n",
       "      <td>31.340</td>\n",
       "      <td>31.020</td>\n",
       "      <td>31.120</td>\n",
       "    </tr>\n",
       "    <tr>\n",
       "      <th>3</th>\n",
       "      <td>2019-07-16</td>\n",
       "      <td>美金 (USD)</td>\n",
       "      <td>30.630</td>\n",
       "      <td>31.300</td>\n",
       "      <td>30.980</td>\n",
       "      <td>31.080</td>\n",
       "    </tr>\n",
       "    <tr>\n",
       "      <th>4</th>\n",
       "      <td>2019-07-15</td>\n",
       "      <td>美金 (USD)</td>\n",
       "      <td>30.640</td>\n",
       "      <td>31.310</td>\n",
       "      <td>30.990</td>\n",
       "      <td>31.090</td>\n",
       "    </tr>\n",
       "  </tbody>\n",
       "</table>\n",
       "</div>"
      ],
      "text/plain": [
       "        掛牌日期        幣別  現金匯率-本行買入  現金匯率-本行賣出  即期匯率-本行買入  即期匯率-本行賣出\n",
       "0 2019-07-19  美金 (USD)     30.650     31.320     31.000     31.100\n",
       "1 2019-07-18  美金 (USD)     30.665     31.335     31.015     31.115\n",
       "2 2019-07-17  美金 (USD)     30.670     31.340     31.020     31.120\n",
       "3 2019-07-16  美金 (USD)     30.630     31.300     30.980     31.080\n",
       "4 2019-07-15  美金 (USD)     30.640     31.310     30.990     31.090"
      ]
     },
     "execution_count": 16,
     "metadata": {},
     "output_type": "execute_result"
    }
   ],
   "source": [
    "df.head()"
   ]
  },
  {
   "cell_type": "markdown",
   "metadata": {},
   "source": [
    "## 儲存資料"
   ]
  },
  {
   "cell_type": "code",
   "execution_count": 17,
   "metadata": {},
   "outputs": [],
   "source": [
    "df.to_excel('rate.xlsx')"
   ]
  },
  {
   "cell_type": "code",
   "execution_count": 18,
   "metadata": {},
   "outputs": [],
   "source": [
    "df.to_csv('rate.csv')"
   ]
  },
  {
   "cell_type": "code",
   "execution_count": 20,
   "metadata": {},
   "outputs": [],
   "source": [
    "import sqlite3\n",
    "with sqlite3.connect('rate.sqlite') as db:\n",
    "    df.to_sql('rate', con = db , if_exists='replace')"
   ]
  },
  {
   "cell_type": "code",
   "execution_count": 22,
   "metadata": {},
   "outputs": [
    {
     "data": {
      "text/html": [
       "<div>\n",
       "<style scoped>\n",
       "    .dataframe tbody tr th:only-of-type {\n",
       "        vertical-align: middle;\n",
       "    }\n",
       "\n",
       "    .dataframe tbody tr th {\n",
       "        vertical-align: top;\n",
       "    }\n",
       "\n",
       "    .dataframe thead th {\n",
       "        text-align: right;\n",
       "    }\n",
       "</style>\n",
       "<table border=\"1\" class=\"dataframe\">\n",
       "  <thead>\n",
       "    <tr style=\"text-align: right;\">\n",
       "      <th></th>\n",
       "      <th>avg(\"現金匯率-本行買入\")</th>\n",
       "    </tr>\n",
       "  </thead>\n",
       "  <tbody>\n",
       "    <tr>\n",
       "      <th>0</th>\n",
       "      <td>30.602917</td>\n",
       "    </tr>\n",
       "  </tbody>\n",
       "</table>\n",
       "</div>"
      ],
      "text/plain": [
       "   avg(\"現金匯率-本行買入\")\n",
       "0         30.602917"
      ]
     },
     "execution_count": 22,
     "metadata": {},
     "output_type": "execute_result"
    }
   ],
   "source": [
    "import sqlite3\n",
    "with sqlite3.connect('rate.sqlite') as db:\n",
    "    df2 = pandas.read_sql_query('select avg(\"現金匯率-本行買入\") from rate', con = db )\n",
    "df2"
   ]
  },
  {
   "cell_type": "code",
   "execution_count": null,
   "metadata": {},
   "outputs": [],
   "source": []
  }
 ],
 "metadata": {
  "kernelspec": {
   "display_name": "Python 3",
   "language": "python",
   "name": "python3"
  },
  "language_info": {
   "codemirror_mode": {
    "name": "ipython",
    "version": 3
   },
   "file_extension": ".py",
   "mimetype": "text/x-python",
   "name": "python",
   "nbconvert_exporter": "python",
   "pygments_lexer": "ipython3",
   "version": "3.6.2"
  }
 },
 "nbformat": 4,
 "nbformat_minor": 2
}
