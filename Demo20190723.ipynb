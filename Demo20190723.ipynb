{
 "cells": [
  {
   "cell_type": "markdown",
   "metadata": {},
   "source": [
    "## 資料蒐集"
   ]
  },
  {
   "cell_type": "code",
   "execution_count": 1,
   "metadata": {},
   "outputs": [],
   "source": [
    "import pandas\n",
    "dfs = pandas.read_html('https://rate.bot.com.tw/xrt/quote/l6m/USD')"
   ]
  },
  {
   "cell_type": "code",
   "execution_count": 3,
   "metadata": {},
   "outputs": [],
   "source": [
    "df = dfs[0]"
   ]
  },
  {
   "cell_type": "markdown",
   "metadata": {},
   "source": [
    "## 資料清理"
   ]
  },
  {
   "cell_type": "code",
   "execution_count": 6,
   "metadata": {},
   "outputs": [],
   "source": [
    "df = df.iloc[:,0:6]"
   ]
  },
  {
   "cell_type": "code",
   "execution_count": 7,
   "metadata": {},
   "outputs": [
    {
     "data": {
      "text/plain": [
       "MultiIndex(levels=[['Unnamed: 5_level_0', 'Unnamed: 8_level_0', '即期匯率', '幣別', '掛牌日期', '現金匯率'], ['Unnamed: 6_level_1', 'Unnamed: 7_level_1', 'Unnamed: 8_level_1', '幣別', '掛牌日期', '本行買入', '本行賣出']],\n",
       "           codes=[[4, 4, 3, 5, 5, 0], [4, 5, 3, 6, 5, 6]])"
      ]
     },
     "execution_count": 7,
     "metadata": {},
     "output_type": "execute_result"
    }
   ],
   "source": [
    "df.columns"
   ]
  },
  {
   "cell_type": "code",
   "execution_count": 8,
   "metadata": {},
   "outputs": [
    {
     "data": {
      "text/html": [
       "<div>\n",
       "<style scoped>\n",
       "    .dataframe tbody tr th:only-of-type {\n",
       "        vertical-align: middle;\n",
       "    }\n",
       "\n",
       "    .dataframe tbody tr th {\n",
       "        vertical-align: top;\n",
       "    }\n",
       "\n",
       "    .dataframe thead tr th {\n",
       "        text-align: left;\n",
       "    }\n",
       "</style>\n",
       "<table border=\"1\" class=\"dataframe\">\n",
       "  <thead>\n",
       "    <tr>\n",
       "      <th></th>\n",
       "      <th colspan=\"2\" halign=\"left\">掛牌日期</th>\n",
       "      <th>幣別</th>\n",
       "      <th colspan=\"2\" halign=\"left\">現金匯率</th>\n",
       "      <th>Unnamed: 5_level_0</th>\n",
       "    </tr>\n",
       "    <tr>\n",
       "      <th></th>\n",
       "      <th>掛牌日期</th>\n",
       "      <th>本行買入</th>\n",
       "      <th>幣別</th>\n",
       "      <th>本行賣出</th>\n",
       "      <th>本行買入</th>\n",
       "      <th>本行賣出</th>\n",
       "    </tr>\n",
       "  </thead>\n",
       "  <tbody>\n",
       "    <tr>\n",
       "      <th>0</th>\n",
       "      <td>2019/07/23</td>\n",
       "      <td>美金 (USD)</td>\n",
       "      <td>30.675</td>\n",
       "      <td>31.345</td>\n",
       "      <td>31.025</td>\n",
       "      <td>31.125</td>\n",
       "    </tr>\n",
       "    <tr>\n",
       "      <th>1</th>\n",
       "      <td>2019/07/22</td>\n",
       "      <td>美金 (USD)</td>\n",
       "      <td>30.675</td>\n",
       "      <td>31.345</td>\n",
       "      <td>31.025</td>\n",
       "      <td>31.125</td>\n",
       "    </tr>\n",
       "    <tr>\n",
       "      <th>2</th>\n",
       "      <td>2019/07/19</td>\n",
       "      <td>美金 (USD)</td>\n",
       "      <td>30.640</td>\n",
       "      <td>31.310</td>\n",
       "      <td>30.990</td>\n",
       "      <td>31.090</td>\n",
       "    </tr>\n",
       "    <tr>\n",
       "      <th>3</th>\n",
       "      <td>2019/07/18</td>\n",
       "      <td>美金 (USD)</td>\n",
       "      <td>30.665</td>\n",
       "      <td>31.335</td>\n",
       "      <td>31.015</td>\n",
       "      <td>31.115</td>\n",
       "    </tr>\n",
       "    <tr>\n",
       "      <th>4</th>\n",
       "      <td>2019/07/17</td>\n",
       "      <td>美金 (USD)</td>\n",
       "      <td>30.670</td>\n",
       "      <td>31.340</td>\n",
       "      <td>31.020</td>\n",
       "      <td>31.120</td>\n",
       "    </tr>\n",
       "  </tbody>\n",
       "</table>\n",
       "</div>"
      ],
      "text/plain": [
       "         掛牌日期                幣別    現金匯率         Unnamed: 5_level_0\n",
       "         掛牌日期      本行買入      幣別    本行賣出    本行買入               本行賣出\n",
       "0  2019/07/23  美金 (USD)  30.675  31.345  31.025             31.125\n",
       "1  2019/07/22  美金 (USD)  30.675  31.345  31.025             31.125\n",
       "2  2019/07/19  美金 (USD)  30.640  31.310  30.990             31.090\n",
       "3  2019/07/18  美金 (USD)  30.665  31.335  31.015             31.115\n",
       "4  2019/07/17  美金 (USD)  30.670  31.340  31.020             31.120"
      ]
     },
     "execution_count": 8,
     "metadata": {},
     "output_type": "execute_result"
    }
   ],
   "source": [
    "df.head()"
   ]
  },
  {
   "cell_type": "code",
   "execution_count": 9,
   "metadata": {},
   "outputs": [],
   "source": [
    "df.columns = ['掛牌日期', '幣別', '現金匯率-本行買入','現金匯率-本行賣出', '即期匯率-本行買入','即期匯率-本行賣出']"
   ]
  },
  {
   "cell_type": "code",
   "execution_count": 10,
   "metadata": {},
   "outputs": [
    {
     "data": {
      "text/html": [
       "<div>\n",
       "<style scoped>\n",
       "    .dataframe tbody tr th:only-of-type {\n",
       "        vertical-align: middle;\n",
       "    }\n",
       "\n",
       "    .dataframe tbody tr th {\n",
       "        vertical-align: top;\n",
       "    }\n",
       "\n",
       "    .dataframe thead th {\n",
       "        text-align: right;\n",
       "    }\n",
       "</style>\n",
       "<table border=\"1\" class=\"dataframe\">\n",
       "  <thead>\n",
       "    <tr style=\"text-align: right;\">\n",
       "      <th></th>\n",
       "      <th>掛牌日期</th>\n",
       "      <th>幣別</th>\n",
       "      <th>現金匯率-本行買入</th>\n",
       "      <th>現金匯率-本行賣出</th>\n",
       "      <th>即期匯率-本行買入</th>\n",
       "      <th>即期匯率-本行賣出</th>\n",
       "    </tr>\n",
       "  </thead>\n",
       "  <tbody>\n",
       "    <tr>\n",
       "      <th>0</th>\n",
       "      <td>2019/07/23</td>\n",
       "      <td>美金 (USD)</td>\n",
       "      <td>30.675</td>\n",
       "      <td>31.345</td>\n",
       "      <td>31.025</td>\n",
       "      <td>31.125</td>\n",
       "    </tr>\n",
       "    <tr>\n",
       "      <th>1</th>\n",
       "      <td>2019/07/22</td>\n",
       "      <td>美金 (USD)</td>\n",
       "      <td>30.675</td>\n",
       "      <td>31.345</td>\n",
       "      <td>31.025</td>\n",
       "      <td>31.125</td>\n",
       "    </tr>\n",
       "    <tr>\n",
       "      <th>2</th>\n",
       "      <td>2019/07/19</td>\n",
       "      <td>美金 (USD)</td>\n",
       "      <td>30.640</td>\n",
       "      <td>31.310</td>\n",
       "      <td>30.990</td>\n",
       "      <td>31.090</td>\n",
       "    </tr>\n",
       "    <tr>\n",
       "      <th>3</th>\n",
       "      <td>2019/07/18</td>\n",
       "      <td>美金 (USD)</td>\n",
       "      <td>30.665</td>\n",
       "      <td>31.335</td>\n",
       "      <td>31.015</td>\n",
       "      <td>31.115</td>\n",
       "    </tr>\n",
       "    <tr>\n",
       "      <th>4</th>\n",
       "      <td>2019/07/17</td>\n",
       "      <td>美金 (USD)</td>\n",
       "      <td>30.670</td>\n",
       "      <td>31.340</td>\n",
       "      <td>31.020</td>\n",
       "      <td>31.120</td>\n",
       "    </tr>\n",
       "  </tbody>\n",
       "</table>\n",
       "</div>"
      ],
      "text/plain": [
       "         掛牌日期        幣別  現金匯率-本行買入  現金匯率-本行賣出  即期匯率-本行買入  即期匯率-本行賣出\n",
       "0  2019/07/23  美金 (USD)     30.675     31.345     31.025     31.125\n",
       "1  2019/07/22  美金 (USD)     30.675     31.345     31.025     31.125\n",
       "2  2019/07/19  美金 (USD)     30.640     31.310     30.990     31.090\n",
       "3  2019/07/18  美金 (USD)     30.665     31.335     31.015     31.115\n",
       "4  2019/07/17  美金 (USD)     30.670     31.340     31.020     31.120"
      ]
     },
     "execution_count": 10,
     "metadata": {},
     "output_type": "execute_result"
    }
   ],
   "source": [
    "df.head()"
   ]
  },
  {
   "cell_type": "code",
   "execution_count": 12,
   "metadata": {},
   "outputs": [
    {
     "name": "stdout",
     "output_type": "stream",
     "text": [
      "<class 'pandas.core.frame.DataFrame'>\n",
      "RangeIndex: 119 entries, 0 to 118\n",
      "Data columns (total 6 columns):\n",
      "掛牌日期         119 non-null object\n",
      "幣別           119 non-null object\n",
      "現金匯率-本行買入    119 non-null float64\n",
      "現金匯率-本行賣出    119 non-null float64\n",
      "即期匯率-本行買入    119 non-null float64\n",
      "即期匯率-本行賣出    119 non-null float64\n",
      "dtypes: float64(4), object(2)\n",
      "memory usage: 5.7+ KB\n"
     ]
    }
   ],
   "source": [
    "df.info()"
   ]
  },
  {
   "cell_type": "code",
   "execution_count": 13,
   "metadata": {},
   "outputs": [],
   "source": [
    "df['掛牌日期'] = pandas.to_datetime(df['掛牌日期'], format = '%Y/%m/%d')"
   ]
  },
  {
   "cell_type": "code",
   "execution_count": 15,
   "metadata": {},
   "outputs": [],
   "source": [
    "df.set_index('掛牌日期', inplace=True)"
   ]
  },
  {
   "cell_type": "code",
   "execution_count": 17,
   "metadata": {},
   "outputs": [],
   "source": [
    "df.sort_index(inplace=True)"
   ]
  },
  {
   "cell_type": "code",
   "execution_count": 18,
   "metadata": {},
   "outputs": [
    {
     "data": {
      "text/html": [
       "<div>\n",
       "<style scoped>\n",
       "    .dataframe tbody tr th:only-of-type {\n",
       "        vertical-align: middle;\n",
       "    }\n",
       "\n",
       "    .dataframe tbody tr th {\n",
       "        vertical-align: top;\n",
       "    }\n",
       "\n",
       "    .dataframe thead th {\n",
       "        text-align: right;\n",
       "    }\n",
       "</style>\n",
       "<table border=\"1\" class=\"dataframe\">\n",
       "  <thead>\n",
       "    <tr style=\"text-align: right;\">\n",
       "      <th></th>\n",
       "      <th>幣別</th>\n",
       "      <th>現金匯率-本行買入</th>\n",
       "      <th>現金匯率-本行賣出</th>\n",
       "      <th>即期匯率-本行買入</th>\n",
       "      <th>即期匯率-本行賣出</th>\n",
       "    </tr>\n",
       "    <tr>\n",
       "      <th>掛牌日期</th>\n",
       "      <th></th>\n",
       "      <th></th>\n",
       "      <th></th>\n",
       "      <th></th>\n",
       "      <th></th>\n",
       "    </tr>\n",
       "  </thead>\n",
       "  <tbody>\n",
       "    <tr>\n",
       "      <th>2019-01-24</th>\n",
       "      <td>美金 (USD)</td>\n",
       "      <td>30.46</td>\n",
       "      <td>31.15</td>\n",
       "      <td>30.83</td>\n",
       "      <td>30.93</td>\n",
       "    </tr>\n",
       "    <tr>\n",
       "      <th>2019-01-25</th>\n",
       "      <td>美金 (USD)</td>\n",
       "      <td>30.40</td>\n",
       "      <td>31.09</td>\n",
       "      <td>30.77</td>\n",
       "      <td>30.87</td>\n",
       "    </tr>\n",
       "    <tr>\n",
       "      <th>2019-01-28</th>\n",
       "      <td>美金 (USD)</td>\n",
       "      <td>30.37</td>\n",
       "      <td>31.06</td>\n",
       "      <td>30.74</td>\n",
       "      <td>30.84</td>\n",
       "    </tr>\n",
       "    <tr>\n",
       "      <th>2019-01-29</th>\n",
       "      <td>美金 (USD)</td>\n",
       "      <td>30.39</td>\n",
       "      <td>31.08</td>\n",
       "      <td>30.76</td>\n",
       "      <td>30.86</td>\n",
       "    </tr>\n",
       "    <tr>\n",
       "      <th>2019-01-30</th>\n",
       "      <td>美金 (USD)</td>\n",
       "      <td>30.34</td>\n",
       "      <td>31.03</td>\n",
       "      <td>30.71</td>\n",
       "      <td>30.81</td>\n",
       "    </tr>\n",
       "  </tbody>\n",
       "</table>\n",
       "</div>"
      ],
      "text/plain": [
       "                  幣別  現金匯率-本行買入  現金匯率-本行賣出  即期匯率-本行買入  即期匯率-本行賣出\n",
       "掛牌日期                                                            \n",
       "2019-01-24  美金 (USD)      30.46      31.15      30.83      30.93\n",
       "2019-01-25  美金 (USD)      30.40      31.09      30.77      30.87\n",
       "2019-01-28  美金 (USD)      30.37      31.06      30.74      30.84\n",
       "2019-01-29  美金 (USD)      30.39      31.08      30.76      30.86\n",
       "2019-01-30  美金 (USD)      30.34      31.03      30.71      30.81"
      ]
     },
     "execution_count": 18,
     "metadata": {},
     "output_type": "execute_result"
    }
   ],
   "source": [
    "df.head()"
   ]
  },
  {
   "cell_type": "markdown",
   "metadata": {},
   "source": [
    "## 資料儲存"
   ]
  },
  {
   "cell_type": "code",
   "execution_count": 19,
   "metadata": {},
   "outputs": [],
   "source": [
    "df.to_excel('rate.xlsx')"
   ]
  },
  {
   "cell_type": "code",
   "execution_count": 20,
   "metadata": {},
   "outputs": [],
   "source": [
    "df.to_csv('rate.csv')"
   ]
  },
  {
   "cell_type": "code",
   "execution_count": 21,
   "metadata": {},
   "outputs": [],
   "source": [
    "import sqlite3\n",
    "with sqlite3.connect('rate.sqlite') as db:\n",
    "    df.to_sql('rate', con = db , if_exists='replace')"
   ]
  },
  {
   "cell_type": "code",
   "execution_count": 23,
   "metadata": {},
   "outputs": [
    {
     "data": {
      "text/html": [
       "<div>\n",
       "<style scoped>\n",
       "    .dataframe tbody tr th:only-of-type {\n",
       "        vertical-align: middle;\n",
       "    }\n",
       "\n",
       "    .dataframe tbody tr th {\n",
       "        vertical-align: top;\n",
       "    }\n",
       "\n",
       "    .dataframe thead th {\n",
       "        text-align: right;\n",
       "    }\n",
       "</style>\n",
       "<table border=\"1\" class=\"dataframe\">\n",
       "  <thead>\n",
       "    <tr style=\"text-align: right;\">\n",
       "      <th></th>\n",
       "      <th>掛牌日期</th>\n",
       "      <th>幣別</th>\n",
       "      <th>現金匯率-本行買入</th>\n",
       "      <th>現金匯率-本行賣出</th>\n",
       "      <th>即期匯率-本行買入</th>\n",
       "      <th>即期匯率-本行賣出</th>\n",
       "    </tr>\n",
       "  </thead>\n",
       "  <tbody>\n",
       "    <tr>\n",
       "      <th>0</th>\n",
       "      <td>2019-01-24 00:00:00</td>\n",
       "      <td>美金 (USD)</td>\n",
       "      <td>30.46</td>\n",
       "      <td>31.15</td>\n",
       "      <td>30.83</td>\n",
       "      <td>30.93</td>\n",
       "    </tr>\n",
       "    <tr>\n",
       "      <th>1</th>\n",
       "      <td>2019-01-25 00:00:00</td>\n",
       "      <td>美金 (USD)</td>\n",
       "      <td>30.40</td>\n",
       "      <td>31.09</td>\n",
       "      <td>30.77</td>\n",
       "      <td>30.87</td>\n",
       "    </tr>\n",
       "    <tr>\n",
       "      <th>2</th>\n",
       "      <td>2019-01-28 00:00:00</td>\n",
       "      <td>美金 (USD)</td>\n",
       "      <td>30.37</td>\n",
       "      <td>31.06</td>\n",
       "      <td>30.74</td>\n",
       "      <td>30.84</td>\n",
       "    </tr>\n",
       "    <tr>\n",
       "      <th>3</th>\n",
       "      <td>2019-01-29 00:00:00</td>\n",
       "      <td>美金 (USD)</td>\n",
       "      <td>30.39</td>\n",
       "      <td>31.08</td>\n",
       "      <td>30.76</td>\n",
       "      <td>30.86</td>\n",
       "    </tr>\n",
       "    <tr>\n",
       "      <th>4</th>\n",
       "      <td>2019-01-30 00:00:00</td>\n",
       "      <td>美金 (USD)</td>\n",
       "      <td>30.34</td>\n",
       "      <td>31.03</td>\n",
       "      <td>30.71</td>\n",
       "      <td>30.81</td>\n",
       "    </tr>\n",
       "  </tbody>\n",
       "</table>\n",
       "</div>"
      ],
      "text/plain": [
       "                  掛牌日期        幣別  現金匯率-本行買入  現金匯率-本行賣出  即期匯率-本行買入  即期匯率-本行賣出\n",
       "0  2019-01-24 00:00:00  美金 (USD)      30.46      31.15      30.83      30.93\n",
       "1  2019-01-25 00:00:00  美金 (USD)      30.40      31.09      30.77      30.87\n",
       "2  2019-01-28 00:00:00  美金 (USD)      30.37      31.06      30.74      30.84\n",
       "3  2019-01-29 00:00:00  美金 (USD)      30.39      31.08      30.76      30.86\n",
       "4  2019-01-30 00:00:00  美金 (USD)      30.34      31.03      30.71      30.81"
      ]
     },
     "execution_count": 23,
     "metadata": {},
     "output_type": "execute_result"
    }
   ],
   "source": [
    "import sqlite3\n",
    "with sqlite3.connect('rate.sqlite') as db:\n",
    "    df2 = pandas.read_sql_query('select * from rate', con = db)\n",
    "df2.head()    "
   ]
  },
  {
   "cell_type": "code",
   "execution_count": null,
   "metadata": {},
   "outputs": [],
   "source": []
  }
 ],
 "metadata": {
  "kernelspec": {
   "display_name": "Python 3",
   "language": "python",
   "name": "python3"
  },
  "language_info": {
   "codemirror_mode": {
    "name": "ipython",
    "version": 3
   },
   "file_extension": ".py",
   "mimetype": "text/x-python",
   "name": "python",
   "nbconvert_exporter": "python",
   "pygments_lexer": "ipython3",
   "version": "3.6.2"
  }
 },
 "nbformat": 4,
 "nbformat_minor": 2
}
